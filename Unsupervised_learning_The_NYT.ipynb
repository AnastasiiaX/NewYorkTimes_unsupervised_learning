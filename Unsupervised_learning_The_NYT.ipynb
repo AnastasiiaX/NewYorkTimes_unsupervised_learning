{
  "nbformat": 4,
  "nbformat_minor": 0,
  "metadata": {
    "colab": {
      "provenance": [],
      "include_colab_link": true
    },
    "kernelspec": {
      "name": "python3",
      "display_name": "Python 3"
    },
    "language_info": {
      "name": "python"
    },
    "widgets": {
      "application/vnd.jupyter.widget-state+json": {
        "d3ed3c7af3b14da98cd1ffd6c217fcf7": {
          "model_module": "@jupyter-widgets/controls",
          "model_name": "HBoxModel",
          "model_module_version": "1.5.0",
          "state": {
            "_dom_classes": [],
            "_model_module": "@jupyter-widgets/controls",
            "_model_module_version": "1.5.0",
            "_model_name": "HBoxModel",
            "_view_count": null,
            "_view_module": "@jupyter-widgets/controls",
            "_view_module_version": "1.5.0",
            "_view_name": "HBoxView",
            "box_style": "",
            "children": [
              "IPY_MODEL_5f77ee356d794de5b40db693bc922682",
              "IPY_MODEL_5d8257a8deb143e89028589ef688e039",
              "IPY_MODEL_82c283eda7cd4a13a7e35d2592da25a7"
            ],
            "layout": "IPY_MODEL_03ef6bb86fac49b990a2715306fb3f39"
          }
        },
        "5f77ee356d794de5b40db693bc922682": {
          "model_module": "@jupyter-widgets/controls",
          "model_name": "HTMLModel",
          "model_module_version": "1.5.0",
          "state": {
            "_dom_classes": [],
            "_model_module": "@jupyter-widgets/controls",
            "_model_module_version": "1.5.0",
            "_model_name": "HTMLModel",
            "_view_count": null,
            "_view_module": "@jupyter-widgets/controls",
            "_view_module_version": "1.5.0",
            "_view_name": "HTMLView",
            "description": "",
            "description_tooltip": null,
            "layout": "IPY_MODEL_edb55c1184c0492984d0aca76ec5fd47",
            "placeholder": "​",
            "style": "IPY_MODEL_add382f74d0549eea0f8f0dcceed5616",
            "value": "config.json: 100%"
          }
        },
        "5d8257a8deb143e89028589ef688e039": {
          "model_module": "@jupyter-widgets/controls",
          "model_name": "FloatProgressModel",
          "model_module_version": "1.5.0",
          "state": {
            "_dom_classes": [],
            "_model_module": "@jupyter-widgets/controls",
            "_model_module_version": "1.5.0",
            "_model_name": "FloatProgressModel",
            "_view_count": null,
            "_view_module": "@jupyter-widgets/controls",
            "_view_module_version": "1.5.0",
            "_view_name": "ProgressView",
            "bar_style": "success",
            "description": "",
            "description_tooltip": null,
            "layout": "IPY_MODEL_d395887794f34ab2b13e3a230b130b9f",
            "max": 1154,
            "min": 0,
            "orientation": "horizontal",
            "style": "IPY_MODEL_23ca157b5a1c4d6199345219e2485dbd",
            "value": 1154
          }
        },
        "82c283eda7cd4a13a7e35d2592da25a7": {
          "model_module": "@jupyter-widgets/controls",
          "model_name": "HTMLModel",
          "model_module_version": "1.5.0",
          "state": {
            "_dom_classes": [],
            "_model_module": "@jupyter-widgets/controls",
            "_model_module_version": "1.5.0",
            "_model_name": "HTMLModel",
            "_view_count": null,
            "_view_module": "@jupyter-widgets/controls",
            "_view_module_version": "1.5.0",
            "_view_name": "HTMLView",
            "description": "",
            "description_tooltip": null,
            "layout": "IPY_MODEL_7d1658ddbf3d4fd1a310fd6ecaa43e83",
            "placeholder": "​",
            "style": "IPY_MODEL_c2086c2da9074e238bbbe7e2f3297610",
            "value": " 1.15k/1.15k [00:00&lt;00:00, 43.1kB/s]"
          }
        },
        "03ef6bb86fac49b990a2715306fb3f39": {
          "model_module": "@jupyter-widgets/base",
          "model_name": "LayoutModel",
          "model_module_version": "1.2.0",
          "state": {
            "_model_module": "@jupyter-widgets/base",
            "_model_module_version": "1.2.0",
            "_model_name": "LayoutModel",
            "_view_count": null,
            "_view_module": "@jupyter-widgets/base",
            "_view_module_version": "1.2.0",
            "_view_name": "LayoutView",
            "align_content": null,
            "align_items": null,
            "align_self": null,
            "border": null,
            "bottom": null,
            "display": null,
            "flex": null,
            "flex_flow": null,
            "grid_area": null,
            "grid_auto_columns": null,
            "grid_auto_flow": null,
            "grid_auto_rows": null,
            "grid_column": null,
            "grid_gap": null,
            "grid_row": null,
            "grid_template_areas": null,
            "grid_template_columns": null,
            "grid_template_rows": null,
            "height": null,
            "justify_content": null,
            "justify_items": null,
            "left": null,
            "margin": null,
            "max_height": null,
            "max_width": null,
            "min_height": null,
            "min_width": null,
            "object_fit": null,
            "object_position": null,
            "order": null,
            "overflow": null,
            "overflow_x": null,
            "overflow_y": null,
            "padding": null,
            "right": null,
            "top": null,
            "visibility": null,
            "width": null
          }
        },
        "edb55c1184c0492984d0aca76ec5fd47": {
          "model_module": "@jupyter-widgets/base",
          "model_name": "LayoutModel",
          "model_module_version": "1.2.0",
          "state": {
            "_model_module": "@jupyter-widgets/base",
            "_model_module_version": "1.2.0",
            "_model_name": "LayoutModel",
            "_view_count": null,
            "_view_module": "@jupyter-widgets/base",
            "_view_module_version": "1.2.0",
            "_view_name": "LayoutView",
            "align_content": null,
            "align_items": null,
            "align_self": null,
            "border": null,
            "bottom": null,
            "display": null,
            "flex": null,
            "flex_flow": null,
            "grid_area": null,
            "grid_auto_columns": null,
            "grid_auto_flow": null,
            "grid_auto_rows": null,
            "grid_column": null,
            "grid_gap": null,
            "grid_row": null,
            "grid_template_areas": null,
            "grid_template_columns": null,
            "grid_template_rows": null,
            "height": null,
            "justify_content": null,
            "justify_items": null,
            "left": null,
            "margin": null,
            "max_height": null,
            "max_width": null,
            "min_height": null,
            "min_width": null,
            "object_fit": null,
            "object_position": null,
            "order": null,
            "overflow": null,
            "overflow_x": null,
            "overflow_y": null,
            "padding": null,
            "right": null,
            "top": null,
            "visibility": null,
            "width": null
          }
        },
        "add382f74d0549eea0f8f0dcceed5616": {
          "model_module": "@jupyter-widgets/controls",
          "model_name": "DescriptionStyleModel",
          "model_module_version": "1.5.0",
          "state": {
            "_model_module": "@jupyter-widgets/controls",
            "_model_module_version": "1.5.0",
            "_model_name": "DescriptionStyleModel",
            "_view_count": null,
            "_view_module": "@jupyter-widgets/base",
            "_view_module_version": "1.2.0",
            "_view_name": "StyleView",
            "description_width": ""
          }
        },
        "d395887794f34ab2b13e3a230b130b9f": {
          "model_module": "@jupyter-widgets/base",
          "model_name": "LayoutModel",
          "model_module_version": "1.2.0",
          "state": {
            "_model_module": "@jupyter-widgets/base",
            "_model_module_version": "1.2.0",
            "_model_name": "LayoutModel",
            "_view_count": null,
            "_view_module": "@jupyter-widgets/base",
            "_view_module_version": "1.2.0",
            "_view_name": "LayoutView",
            "align_content": null,
            "align_items": null,
            "align_self": null,
            "border": null,
            "bottom": null,
            "display": null,
            "flex": null,
            "flex_flow": null,
            "grid_area": null,
            "grid_auto_columns": null,
            "grid_auto_flow": null,
            "grid_auto_rows": null,
            "grid_column": null,
            "grid_gap": null,
            "grid_row": null,
            "grid_template_areas": null,
            "grid_template_columns": null,
            "grid_template_rows": null,
            "height": null,
            "justify_content": null,
            "justify_items": null,
            "left": null,
            "margin": null,
            "max_height": null,
            "max_width": null,
            "min_height": null,
            "min_width": null,
            "object_fit": null,
            "object_position": null,
            "order": null,
            "overflow": null,
            "overflow_x": null,
            "overflow_y": null,
            "padding": null,
            "right": null,
            "top": null,
            "visibility": null,
            "width": null
          }
        },
        "23ca157b5a1c4d6199345219e2485dbd": {
          "model_module": "@jupyter-widgets/controls",
          "model_name": "ProgressStyleModel",
          "model_module_version": "1.5.0",
          "state": {
            "_model_module": "@jupyter-widgets/controls",
            "_model_module_version": "1.5.0",
            "_model_name": "ProgressStyleModel",
            "_view_count": null,
            "_view_module": "@jupyter-widgets/base",
            "_view_module_version": "1.2.0",
            "_view_name": "StyleView",
            "bar_color": null,
            "description_width": ""
          }
        },
        "7d1658ddbf3d4fd1a310fd6ecaa43e83": {
          "model_module": "@jupyter-widgets/base",
          "model_name": "LayoutModel",
          "model_module_version": "1.2.0",
          "state": {
            "_model_module": "@jupyter-widgets/base",
            "_model_module_version": "1.2.0",
            "_model_name": "LayoutModel",
            "_view_count": null,
            "_view_module": "@jupyter-widgets/base",
            "_view_module_version": "1.2.0",
            "_view_name": "LayoutView",
            "align_content": null,
            "align_items": null,
            "align_self": null,
            "border": null,
            "bottom": null,
            "display": null,
            "flex": null,
            "flex_flow": null,
            "grid_area": null,
            "grid_auto_columns": null,
            "grid_auto_flow": null,
            "grid_auto_rows": null,
            "grid_column": null,
            "grid_gap": null,
            "grid_row": null,
            "grid_template_areas": null,
            "grid_template_columns": null,
            "grid_template_rows": null,
            "height": null,
            "justify_content": null,
            "justify_items": null,
            "left": null,
            "margin": null,
            "max_height": null,
            "max_width": null,
            "min_height": null,
            "min_width": null,
            "object_fit": null,
            "object_position": null,
            "order": null,
            "overflow": null,
            "overflow_x": null,
            "overflow_y": null,
            "padding": null,
            "right": null,
            "top": null,
            "visibility": null,
            "width": null
          }
        },
        "c2086c2da9074e238bbbe7e2f3297610": {
          "model_module": "@jupyter-widgets/controls",
          "model_name": "DescriptionStyleModel",
          "model_module_version": "1.5.0",
          "state": {
            "_model_module": "@jupyter-widgets/controls",
            "_model_module_version": "1.5.0",
            "_model_name": "DescriptionStyleModel",
            "_view_count": null,
            "_view_module": "@jupyter-widgets/base",
            "_view_module_version": "1.2.0",
            "_view_name": "StyleView",
            "description_width": ""
          }
        },
        "ea81d7f20a5545b8a33b306df81284bc": {
          "model_module": "@jupyter-widgets/controls",
          "model_name": "HBoxModel",
          "model_module_version": "1.5.0",
          "state": {
            "_dom_classes": [],
            "_model_module": "@jupyter-widgets/controls",
            "_model_module_version": "1.5.0",
            "_model_name": "HBoxModel",
            "_view_count": null,
            "_view_module": "@jupyter-widgets/controls",
            "_view_module_version": "1.5.0",
            "_view_name": "HBoxView",
            "box_style": "",
            "children": [
              "IPY_MODEL_045e80f0322e49ee9e4969e9e0e7794c",
              "IPY_MODEL_be95004cb3d3419dbf97abdb9529acb4",
              "IPY_MODEL_dfdd8477a21446c4a2e17388842be88e"
            ],
            "layout": "IPY_MODEL_0738af9ee7fb4219b0c559273e3ff3f8"
          }
        },
        "045e80f0322e49ee9e4969e9e0e7794c": {
          "model_module": "@jupyter-widgets/controls",
          "model_name": "HTMLModel",
          "model_module_version": "1.5.0",
          "state": {
            "_dom_classes": [],
            "_model_module": "@jupyter-widgets/controls",
            "_model_module_version": "1.5.0",
            "_model_name": "HTMLModel",
            "_view_count": null,
            "_view_module": "@jupyter-widgets/controls",
            "_view_module_version": "1.5.0",
            "_view_name": "HTMLView",
            "description": "",
            "description_tooltip": null,
            "layout": "IPY_MODEL_86d55537883f4fafbaedd1f25200577a",
            "placeholder": "​",
            "style": "IPY_MODEL_ed754787e8e0473bbd47e8af4b233a7d",
            "value": "model.safetensors: 100%"
          }
        },
        "be95004cb3d3419dbf97abdb9529acb4": {
          "model_module": "@jupyter-widgets/controls",
          "model_name": "FloatProgressModel",
          "model_module_version": "1.5.0",
          "state": {
            "_dom_classes": [],
            "_model_module": "@jupyter-widgets/controls",
            "_model_module_version": "1.5.0",
            "_model_name": "FloatProgressModel",
            "_view_count": null,
            "_view_module": "@jupyter-widgets/controls",
            "_view_module_version": "1.5.0",
            "_view_name": "ProgressView",
            "bar_style": "success",
            "description": "",
            "description_tooltip": null,
            "layout": "IPY_MODEL_4dece701d4664bebb5a5d71df86c70a8",
            "max": 1629437147,
            "min": 0,
            "orientation": "horizontal",
            "style": "IPY_MODEL_792d308d023c40e4a63e4378c0f13ea5",
            "value": 1629437147
          }
        },
        "dfdd8477a21446c4a2e17388842be88e": {
          "model_module": "@jupyter-widgets/controls",
          "model_name": "HTMLModel",
          "model_module_version": "1.5.0",
          "state": {
            "_dom_classes": [],
            "_model_module": "@jupyter-widgets/controls",
            "_model_module_version": "1.5.0",
            "_model_name": "HTMLModel",
            "_view_count": null,
            "_view_module": "@jupyter-widgets/controls",
            "_view_module_version": "1.5.0",
            "_view_name": "HTMLView",
            "description": "",
            "description_tooltip": null,
            "layout": "IPY_MODEL_45823ee584014037b4259468a8cff65c",
            "placeholder": "​",
            "style": "IPY_MODEL_e7de5efd6ae244178da6e575878db26b",
            "value": " 1.63G/1.63G [00:15&lt;00:00, 162MB/s]"
          }
        },
        "0738af9ee7fb4219b0c559273e3ff3f8": {
          "model_module": "@jupyter-widgets/base",
          "model_name": "LayoutModel",
          "model_module_version": "1.2.0",
          "state": {
            "_model_module": "@jupyter-widgets/base",
            "_model_module_version": "1.2.0",
            "_model_name": "LayoutModel",
            "_view_count": null,
            "_view_module": "@jupyter-widgets/base",
            "_view_module_version": "1.2.0",
            "_view_name": "LayoutView",
            "align_content": null,
            "align_items": null,
            "align_self": null,
            "border": null,
            "bottom": null,
            "display": null,
            "flex": null,
            "flex_flow": null,
            "grid_area": null,
            "grid_auto_columns": null,
            "grid_auto_flow": null,
            "grid_auto_rows": null,
            "grid_column": null,
            "grid_gap": null,
            "grid_row": null,
            "grid_template_areas": null,
            "grid_template_columns": null,
            "grid_template_rows": null,
            "height": null,
            "justify_content": null,
            "justify_items": null,
            "left": null,
            "margin": null,
            "max_height": null,
            "max_width": null,
            "min_height": null,
            "min_width": null,
            "object_fit": null,
            "object_position": null,
            "order": null,
            "overflow": null,
            "overflow_x": null,
            "overflow_y": null,
            "padding": null,
            "right": null,
            "top": null,
            "visibility": null,
            "width": null
          }
        },
        "86d55537883f4fafbaedd1f25200577a": {
          "model_module": "@jupyter-widgets/base",
          "model_name": "LayoutModel",
          "model_module_version": "1.2.0",
          "state": {
            "_model_module": "@jupyter-widgets/base",
            "_model_module_version": "1.2.0",
            "_model_name": "LayoutModel",
            "_view_count": null,
            "_view_module": "@jupyter-widgets/base",
            "_view_module_version": "1.2.0",
            "_view_name": "LayoutView",
            "align_content": null,
            "align_items": null,
            "align_self": null,
            "border": null,
            "bottom": null,
            "display": null,
            "flex": null,
            "flex_flow": null,
            "grid_area": null,
            "grid_auto_columns": null,
            "grid_auto_flow": null,
            "grid_auto_rows": null,
            "grid_column": null,
            "grid_gap": null,
            "grid_row": null,
            "grid_template_areas": null,
            "grid_template_columns": null,
            "grid_template_rows": null,
            "height": null,
            "justify_content": null,
            "justify_items": null,
            "left": null,
            "margin": null,
            "max_height": null,
            "max_width": null,
            "min_height": null,
            "min_width": null,
            "object_fit": null,
            "object_position": null,
            "order": null,
            "overflow": null,
            "overflow_x": null,
            "overflow_y": null,
            "padding": null,
            "right": null,
            "top": null,
            "visibility": null,
            "width": null
          }
        },
        "ed754787e8e0473bbd47e8af4b233a7d": {
          "model_module": "@jupyter-widgets/controls",
          "model_name": "DescriptionStyleModel",
          "model_module_version": "1.5.0",
          "state": {
            "_model_module": "@jupyter-widgets/controls",
            "_model_module_version": "1.5.0",
            "_model_name": "DescriptionStyleModel",
            "_view_count": null,
            "_view_module": "@jupyter-widgets/base",
            "_view_module_version": "1.2.0",
            "_view_name": "StyleView",
            "description_width": ""
          }
        },
        "4dece701d4664bebb5a5d71df86c70a8": {
          "model_module": "@jupyter-widgets/base",
          "model_name": "LayoutModel",
          "model_module_version": "1.2.0",
          "state": {
            "_model_module": "@jupyter-widgets/base",
            "_model_module_version": "1.2.0",
            "_model_name": "LayoutModel",
            "_view_count": null,
            "_view_module": "@jupyter-widgets/base",
            "_view_module_version": "1.2.0",
            "_view_name": "LayoutView",
            "align_content": null,
            "align_items": null,
            "align_self": null,
            "border": null,
            "bottom": null,
            "display": null,
            "flex": null,
            "flex_flow": null,
            "grid_area": null,
            "grid_auto_columns": null,
            "grid_auto_flow": null,
            "grid_auto_rows": null,
            "grid_column": null,
            "grid_gap": null,
            "grid_row": null,
            "grid_template_areas": null,
            "grid_template_columns": null,
            "grid_template_rows": null,
            "height": null,
            "justify_content": null,
            "justify_items": null,
            "left": null,
            "margin": null,
            "max_height": null,
            "max_width": null,
            "min_height": null,
            "min_width": null,
            "object_fit": null,
            "object_position": null,
            "order": null,
            "overflow": null,
            "overflow_x": null,
            "overflow_y": null,
            "padding": null,
            "right": null,
            "top": null,
            "visibility": null,
            "width": null
          }
        },
        "792d308d023c40e4a63e4378c0f13ea5": {
          "model_module": "@jupyter-widgets/controls",
          "model_name": "ProgressStyleModel",
          "model_module_version": "1.5.0",
          "state": {
            "_model_module": "@jupyter-widgets/controls",
            "_model_module_version": "1.5.0",
            "_model_name": "ProgressStyleModel",
            "_view_count": null,
            "_view_module": "@jupyter-widgets/base",
            "_view_module_version": "1.2.0",
            "_view_name": "StyleView",
            "bar_color": null,
            "description_width": ""
          }
        },
        "45823ee584014037b4259468a8cff65c": {
          "model_module": "@jupyter-widgets/base",
          "model_name": "LayoutModel",
          "model_module_version": "1.2.0",
          "state": {
            "_model_module": "@jupyter-widgets/base",
            "_model_module_version": "1.2.0",
            "_model_name": "LayoutModel",
            "_view_count": null,
            "_view_module": "@jupyter-widgets/base",
            "_view_module_version": "1.2.0",
            "_view_name": "LayoutView",
            "align_content": null,
            "align_items": null,
            "align_self": null,
            "border": null,
            "bottom": null,
            "display": null,
            "flex": null,
            "flex_flow": null,
            "grid_area": null,
            "grid_auto_columns": null,
            "grid_auto_flow": null,
            "grid_auto_rows": null,
            "grid_column": null,
            "grid_gap": null,
            "grid_row": null,
            "grid_template_areas": null,
            "grid_template_columns": null,
            "grid_template_rows": null,
            "height": null,
            "justify_content": null,
            "justify_items": null,
            "left": null,
            "margin": null,
            "max_height": null,
            "max_width": null,
            "min_height": null,
            "min_width": null,
            "object_fit": null,
            "object_position": null,
            "order": null,
            "overflow": null,
            "overflow_x": null,
            "overflow_y": null,
            "padding": null,
            "right": null,
            "top": null,
            "visibility": null,
            "width": null
          }
        },
        "e7de5efd6ae244178da6e575878db26b": {
          "model_module": "@jupyter-widgets/controls",
          "model_name": "DescriptionStyleModel",
          "model_module_version": "1.5.0",
          "state": {
            "_model_module": "@jupyter-widgets/controls",
            "_model_module_version": "1.5.0",
            "_model_name": "DescriptionStyleModel",
            "_view_count": null,
            "_view_module": "@jupyter-widgets/base",
            "_view_module_version": "1.2.0",
            "_view_name": "StyleView",
            "description_width": ""
          }
        },
        "c1112cc6afa943f18939cbdec0034630": {
          "model_module": "@jupyter-widgets/controls",
          "model_name": "HBoxModel",
          "model_module_version": "1.5.0",
          "state": {
            "_dom_classes": [],
            "_model_module": "@jupyter-widgets/controls",
            "_model_module_version": "1.5.0",
            "_model_name": "HBoxModel",
            "_view_count": null,
            "_view_module": "@jupyter-widgets/controls",
            "_view_module_version": "1.5.0",
            "_view_name": "HBoxView",
            "box_style": "",
            "children": [
              "IPY_MODEL_047e4d3c77594a99984768baceb7b79c",
              "IPY_MODEL_a9a2c3fbdd9147cf9fec1ec0de77ae12",
              "IPY_MODEL_2f1658ef2aa94152a90e24f2b44dc75b"
            ],
            "layout": "IPY_MODEL_63b633b14d344f09a39b740469337c38"
          }
        },
        "047e4d3c77594a99984768baceb7b79c": {
          "model_module": "@jupyter-widgets/controls",
          "model_name": "HTMLModel",
          "model_module_version": "1.5.0",
          "state": {
            "_dom_classes": [],
            "_model_module": "@jupyter-widgets/controls",
            "_model_module_version": "1.5.0",
            "_model_name": "HTMLModel",
            "_view_count": null,
            "_view_module": "@jupyter-widgets/controls",
            "_view_module_version": "1.5.0",
            "_view_name": "HTMLView",
            "description": "",
            "description_tooltip": null,
            "layout": "IPY_MODEL_3189e6117ee2499e854fd4e47ba3618e",
            "placeholder": "​",
            "style": "IPY_MODEL_48c045806561410289ea0946679d0982",
            "value": "tokenizer_config.json: 100%"
          }
        },
        "a9a2c3fbdd9147cf9fec1ec0de77ae12": {
          "model_module": "@jupyter-widgets/controls",
          "model_name": "FloatProgressModel",
          "model_module_version": "1.5.0",
          "state": {
            "_dom_classes": [],
            "_model_module": "@jupyter-widgets/controls",
            "_model_module_version": "1.5.0",
            "_model_name": "FloatProgressModel",
            "_view_count": null,
            "_view_module": "@jupyter-widgets/controls",
            "_view_module_version": "1.5.0",
            "_view_name": "ProgressView",
            "bar_style": "success",
            "description": "",
            "description_tooltip": null,
            "layout": "IPY_MODEL_42a9cdf2615f4b1c8d22f5b74e2d71f1",
            "max": 26,
            "min": 0,
            "orientation": "horizontal",
            "style": "IPY_MODEL_10950795990b40a391bd8091e9d66d52",
            "value": 26
          }
        },
        "2f1658ef2aa94152a90e24f2b44dc75b": {
          "model_module": "@jupyter-widgets/controls",
          "model_name": "HTMLModel",
          "model_module_version": "1.5.0",
          "state": {
            "_dom_classes": [],
            "_model_module": "@jupyter-widgets/controls",
            "_model_module_version": "1.5.0",
            "_model_name": "HTMLModel",
            "_view_count": null,
            "_view_module": "@jupyter-widgets/controls",
            "_view_module_version": "1.5.0",
            "_view_name": "HTMLView",
            "description": "",
            "description_tooltip": null,
            "layout": "IPY_MODEL_6708de4e070542fa8ee5c614813854b5",
            "placeholder": "​",
            "style": "IPY_MODEL_54ac292101534f43be5ffb1649d660e1",
            "value": " 26.0/26.0 [00:00&lt;00:00, 1.49kB/s]"
          }
        },
        "63b633b14d344f09a39b740469337c38": {
          "model_module": "@jupyter-widgets/base",
          "model_name": "LayoutModel",
          "model_module_version": "1.2.0",
          "state": {
            "_model_module": "@jupyter-widgets/base",
            "_model_module_version": "1.2.0",
            "_model_name": "LayoutModel",
            "_view_count": null,
            "_view_module": "@jupyter-widgets/base",
            "_view_module_version": "1.2.0",
            "_view_name": "LayoutView",
            "align_content": null,
            "align_items": null,
            "align_self": null,
            "border": null,
            "bottom": null,
            "display": null,
            "flex": null,
            "flex_flow": null,
            "grid_area": null,
            "grid_auto_columns": null,
            "grid_auto_flow": null,
            "grid_auto_rows": null,
            "grid_column": null,
            "grid_gap": null,
            "grid_row": null,
            "grid_template_areas": null,
            "grid_template_columns": null,
            "grid_template_rows": null,
            "height": null,
            "justify_content": null,
            "justify_items": null,
            "left": null,
            "margin": null,
            "max_height": null,
            "max_width": null,
            "min_height": null,
            "min_width": null,
            "object_fit": null,
            "object_position": null,
            "order": null,
            "overflow": null,
            "overflow_x": null,
            "overflow_y": null,
            "padding": null,
            "right": null,
            "top": null,
            "visibility": null,
            "width": null
          }
        },
        "3189e6117ee2499e854fd4e47ba3618e": {
          "model_module": "@jupyter-widgets/base",
          "model_name": "LayoutModel",
          "model_module_version": "1.2.0",
          "state": {
            "_model_module": "@jupyter-widgets/base",
            "_model_module_version": "1.2.0",
            "_model_name": "LayoutModel",
            "_view_count": null,
            "_view_module": "@jupyter-widgets/base",
            "_view_module_version": "1.2.0",
            "_view_name": "LayoutView",
            "align_content": null,
            "align_items": null,
            "align_self": null,
            "border": null,
            "bottom": null,
            "display": null,
            "flex": null,
            "flex_flow": null,
            "grid_area": null,
            "grid_auto_columns": null,
            "grid_auto_flow": null,
            "grid_auto_rows": null,
            "grid_column": null,
            "grid_gap": null,
            "grid_row": null,
            "grid_template_areas": null,
            "grid_template_columns": null,
            "grid_template_rows": null,
            "height": null,
            "justify_content": null,
            "justify_items": null,
            "left": null,
            "margin": null,
            "max_height": null,
            "max_width": null,
            "min_height": null,
            "min_width": null,
            "object_fit": null,
            "object_position": null,
            "order": null,
            "overflow": null,
            "overflow_x": null,
            "overflow_y": null,
            "padding": null,
            "right": null,
            "top": null,
            "visibility": null,
            "width": null
          }
        },
        "48c045806561410289ea0946679d0982": {
          "model_module": "@jupyter-widgets/controls",
          "model_name": "DescriptionStyleModel",
          "model_module_version": "1.5.0",
          "state": {
            "_model_module": "@jupyter-widgets/controls",
            "_model_module_version": "1.5.0",
            "_model_name": "DescriptionStyleModel",
            "_view_count": null,
            "_view_module": "@jupyter-widgets/base",
            "_view_module_version": "1.2.0",
            "_view_name": "StyleView",
            "description_width": ""
          }
        },
        "42a9cdf2615f4b1c8d22f5b74e2d71f1": {
          "model_module": "@jupyter-widgets/base",
          "model_name": "LayoutModel",
          "model_module_version": "1.2.0",
          "state": {
            "_model_module": "@jupyter-widgets/base",
            "_model_module_version": "1.2.0",
            "_model_name": "LayoutModel",
            "_view_count": null,
            "_view_module": "@jupyter-widgets/base",
            "_view_module_version": "1.2.0",
            "_view_name": "LayoutView",
            "align_content": null,
            "align_items": null,
            "align_self": null,
            "border": null,
            "bottom": null,
            "display": null,
            "flex": null,
            "flex_flow": null,
            "grid_area": null,
            "grid_auto_columns": null,
            "grid_auto_flow": null,
            "grid_auto_rows": null,
            "grid_column": null,
            "grid_gap": null,
            "grid_row": null,
            "grid_template_areas": null,
            "grid_template_columns": null,
            "grid_template_rows": null,
            "height": null,
            "justify_content": null,
            "justify_items": null,
            "left": null,
            "margin": null,
            "max_height": null,
            "max_width": null,
            "min_height": null,
            "min_width": null,
            "object_fit": null,
            "object_position": null,
            "order": null,
            "overflow": null,
            "overflow_x": null,
            "overflow_y": null,
            "padding": null,
            "right": null,
            "top": null,
            "visibility": null,
            "width": null
          }
        },
        "10950795990b40a391bd8091e9d66d52": {
          "model_module": "@jupyter-widgets/controls",
          "model_name": "ProgressStyleModel",
          "model_module_version": "1.5.0",
          "state": {
            "_model_module": "@jupyter-widgets/controls",
            "_model_module_version": "1.5.0",
            "_model_name": "ProgressStyleModel",
            "_view_count": null,
            "_view_module": "@jupyter-widgets/base",
            "_view_module_version": "1.2.0",
            "_view_name": "StyleView",
            "bar_color": null,
            "description_width": ""
          }
        },
        "6708de4e070542fa8ee5c614813854b5": {
          "model_module": "@jupyter-widgets/base",
          "model_name": "LayoutModel",
          "model_module_version": "1.2.0",
          "state": {
            "_model_module": "@jupyter-widgets/base",
            "_model_module_version": "1.2.0",
            "_model_name": "LayoutModel",
            "_view_count": null,
            "_view_module": "@jupyter-widgets/base",
            "_view_module_version": "1.2.0",
            "_view_name": "LayoutView",
            "align_content": null,
            "align_items": null,
            "align_self": null,
            "border": null,
            "bottom": null,
            "display": null,
            "flex": null,
            "flex_flow": null,
            "grid_area": null,
            "grid_auto_columns": null,
            "grid_auto_flow": null,
            "grid_auto_rows": null,
            "grid_column": null,
            "grid_gap": null,
            "grid_row": null,
            "grid_template_areas": null,
            "grid_template_columns": null,
            "grid_template_rows": null,
            "height": null,
            "justify_content": null,
            "justify_items": null,
            "left": null,
            "margin": null,
            "max_height": null,
            "max_width": null,
            "min_height": null,
            "min_width": null,
            "object_fit": null,
            "object_position": null,
            "order": null,
            "overflow": null,
            "overflow_x": null,
            "overflow_y": null,
            "padding": null,
            "right": null,
            "top": null,
            "visibility": null,
            "width": null
          }
        },
        "54ac292101534f43be5ffb1649d660e1": {
          "model_module": "@jupyter-widgets/controls",
          "model_name": "DescriptionStyleModel",
          "model_module_version": "1.5.0",
          "state": {
            "_model_module": "@jupyter-widgets/controls",
            "_model_module_version": "1.5.0",
            "_model_name": "DescriptionStyleModel",
            "_view_count": null,
            "_view_module": "@jupyter-widgets/base",
            "_view_module_version": "1.2.0",
            "_view_name": "StyleView",
            "description_width": ""
          }
        },
        "24011d9090004d6991785ceb00dd764e": {
          "model_module": "@jupyter-widgets/controls",
          "model_name": "HBoxModel",
          "model_module_version": "1.5.0",
          "state": {
            "_dom_classes": [],
            "_model_module": "@jupyter-widgets/controls",
            "_model_module_version": "1.5.0",
            "_model_name": "HBoxModel",
            "_view_count": null,
            "_view_module": "@jupyter-widgets/controls",
            "_view_module_version": "1.5.0",
            "_view_name": "HBoxView",
            "box_style": "",
            "children": [
              "IPY_MODEL_689e8557b1d544f2829dedacdd4fcdef",
              "IPY_MODEL_a5fec40893c34dd78edeb5044faa4b69",
              "IPY_MODEL_d26471c9c2dc4aed88438b7e97db5b9d"
            ],
            "layout": "IPY_MODEL_1dfb6f92c4a94c7194d612d386101442"
          }
        },
        "689e8557b1d544f2829dedacdd4fcdef": {
          "model_module": "@jupyter-widgets/controls",
          "model_name": "HTMLModel",
          "model_module_version": "1.5.0",
          "state": {
            "_dom_classes": [],
            "_model_module": "@jupyter-widgets/controls",
            "_model_module_version": "1.5.0",
            "_model_name": "HTMLModel",
            "_view_count": null,
            "_view_module": "@jupyter-widgets/controls",
            "_view_module_version": "1.5.0",
            "_view_name": "HTMLView",
            "description": "",
            "description_tooltip": null,
            "layout": "IPY_MODEL_6e0b33c8569942a48dae676effdc720c",
            "placeholder": "​",
            "style": "IPY_MODEL_7e6bf169edb34f08bb5c9e343c500320",
            "value": "vocab.json: 100%"
          }
        },
        "a5fec40893c34dd78edeb5044faa4b69": {
          "model_module": "@jupyter-widgets/controls",
          "model_name": "FloatProgressModel",
          "model_module_version": "1.5.0",
          "state": {
            "_dom_classes": [],
            "_model_module": "@jupyter-widgets/controls",
            "_model_module_version": "1.5.0",
            "_model_name": "FloatProgressModel",
            "_view_count": null,
            "_view_module": "@jupyter-widgets/controls",
            "_view_module_version": "1.5.0",
            "_view_name": "ProgressView",
            "bar_style": "success",
            "description": "",
            "description_tooltip": null,
            "layout": "IPY_MODEL_346b2047958a4f1aa88e9e30dc1cf864",
            "max": 898822,
            "min": 0,
            "orientation": "horizontal",
            "style": "IPY_MODEL_4eb3997065464778a551a80b6e1ceaab",
            "value": 898822
          }
        },
        "d26471c9c2dc4aed88438b7e97db5b9d": {
          "model_module": "@jupyter-widgets/controls",
          "model_name": "HTMLModel",
          "model_module_version": "1.5.0",
          "state": {
            "_dom_classes": [],
            "_model_module": "@jupyter-widgets/controls",
            "_model_module_version": "1.5.0",
            "_model_name": "HTMLModel",
            "_view_count": null,
            "_view_module": "@jupyter-widgets/controls",
            "_view_module_version": "1.5.0",
            "_view_name": "HTMLView",
            "description": "",
            "description_tooltip": null,
            "layout": "IPY_MODEL_15714101bde84c07bf4afaaf58023198",
            "placeholder": "​",
            "style": "IPY_MODEL_e49fbcbe2ddc43e38c55601af1535777",
            "value": " 899k/899k [00:00&lt;00:00, 3.11MB/s]"
          }
        },
        "1dfb6f92c4a94c7194d612d386101442": {
          "model_module": "@jupyter-widgets/base",
          "model_name": "LayoutModel",
          "model_module_version": "1.2.0",
          "state": {
            "_model_module": "@jupyter-widgets/base",
            "_model_module_version": "1.2.0",
            "_model_name": "LayoutModel",
            "_view_count": null,
            "_view_module": "@jupyter-widgets/base",
            "_view_module_version": "1.2.0",
            "_view_name": "LayoutView",
            "align_content": null,
            "align_items": null,
            "align_self": null,
            "border": null,
            "bottom": null,
            "display": null,
            "flex": null,
            "flex_flow": null,
            "grid_area": null,
            "grid_auto_columns": null,
            "grid_auto_flow": null,
            "grid_auto_rows": null,
            "grid_column": null,
            "grid_gap": null,
            "grid_row": null,
            "grid_template_areas": null,
            "grid_template_columns": null,
            "grid_template_rows": null,
            "height": null,
            "justify_content": null,
            "justify_items": null,
            "left": null,
            "margin": null,
            "max_height": null,
            "max_width": null,
            "min_height": null,
            "min_width": null,
            "object_fit": null,
            "object_position": null,
            "order": null,
            "overflow": null,
            "overflow_x": null,
            "overflow_y": null,
            "padding": null,
            "right": null,
            "top": null,
            "visibility": null,
            "width": null
          }
        },
        "6e0b33c8569942a48dae676effdc720c": {
          "model_module": "@jupyter-widgets/base",
          "model_name": "LayoutModel",
          "model_module_version": "1.2.0",
          "state": {
            "_model_module": "@jupyter-widgets/base",
            "_model_module_version": "1.2.0",
            "_model_name": "LayoutModel",
            "_view_count": null,
            "_view_module": "@jupyter-widgets/base",
            "_view_module_version": "1.2.0",
            "_view_name": "LayoutView",
            "align_content": null,
            "align_items": null,
            "align_self": null,
            "border": null,
            "bottom": null,
            "display": null,
            "flex": null,
            "flex_flow": null,
            "grid_area": null,
            "grid_auto_columns": null,
            "grid_auto_flow": null,
            "grid_auto_rows": null,
            "grid_column": null,
            "grid_gap": null,
            "grid_row": null,
            "grid_template_areas": null,
            "grid_template_columns": null,
            "grid_template_rows": null,
            "height": null,
            "justify_content": null,
            "justify_items": null,
            "left": null,
            "margin": null,
            "max_height": null,
            "max_width": null,
            "min_height": null,
            "min_width": null,
            "object_fit": null,
            "object_position": null,
            "order": null,
            "overflow": null,
            "overflow_x": null,
            "overflow_y": null,
            "padding": null,
            "right": null,
            "top": null,
            "visibility": null,
            "width": null
          }
        },
        "7e6bf169edb34f08bb5c9e343c500320": {
          "model_module": "@jupyter-widgets/controls",
          "model_name": "DescriptionStyleModel",
          "model_module_version": "1.5.0",
          "state": {
            "_model_module": "@jupyter-widgets/controls",
            "_model_module_version": "1.5.0",
            "_model_name": "DescriptionStyleModel",
            "_view_count": null,
            "_view_module": "@jupyter-widgets/base",
            "_view_module_version": "1.2.0",
            "_view_name": "StyleView",
            "description_width": ""
          }
        },
        "346b2047958a4f1aa88e9e30dc1cf864": {
          "model_module": "@jupyter-widgets/base",
          "model_name": "LayoutModel",
          "model_module_version": "1.2.0",
          "state": {
            "_model_module": "@jupyter-widgets/base",
            "_model_module_version": "1.2.0",
            "_model_name": "LayoutModel",
            "_view_count": null,
            "_view_module": "@jupyter-widgets/base",
            "_view_module_version": "1.2.0",
            "_view_name": "LayoutView",
            "align_content": null,
            "align_items": null,
            "align_self": null,
            "border": null,
            "bottom": null,
            "display": null,
            "flex": null,
            "flex_flow": null,
            "grid_area": null,
            "grid_auto_columns": null,
            "grid_auto_flow": null,
            "grid_auto_rows": null,
            "grid_column": null,
            "grid_gap": null,
            "grid_row": null,
            "grid_template_areas": null,
            "grid_template_columns": null,
            "grid_template_rows": null,
            "height": null,
            "justify_content": null,
            "justify_items": null,
            "left": null,
            "margin": null,
            "max_height": null,
            "max_width": null,
            "min_height": null,
            "min_width": null,
            "object_fit": null,
            "object_position": null,
            "order": null,
            "overflow": null,
            "overflow_x": null,
            "overflow_y": null,
            "padding": null,
            "right": null,
            "top": null,
            "visibility": null,
            "width": null
          }
        },
        "4eb3997065464778a551a80b6e1ceaab": {
          "model_module": "@jupyter-widgets/controls",
          "model_name": "ProgressStyleModel",
          "model_module_version": "1.5.0",
          "state": {
            "_model_module": "@jupyter-widgets/controls",
            "_model_module_version": "1.5.0",
            "_model_name": "ProgressStyleModel",
            "_view_count": null,
            "_view_module": "@jupyter-widgets/base",
            "_view_module_version": "1.2.0",
            "_view_name": "StyleView",
            "bar_color": null,
            "description_width": ""
          }
        },
        "15714101bde84c07bf4afaaf58023198": {
          "model_module": "@jupyter-widgets/base",
          "model_name": "LayoutModel",
          "model_module_version": "1.2.0",
          "state": {
            "_model_module": "@jupyter-widgets/base",
            "_model_module_version": "1.2.0",
            "_model_name": "LayoutModel",
            "_view_count": null,
            "_view_module": "@jupyter-widgets/base",
            "_view_module_version": "1.2.0",
            "_view_name": "LayoutView",
            "align_content": null,
            "align_items": null,
            "align_self": null,
            "border": null,
            "bottom": null,
            "display": null,
            "flex": null,
            "flex_flow": null,
            "grid_area": null,
            "grid_auto_columns": null,
            "grid_auto_flow": null,
            "grid_auto_rows": null,
            "grid_column": null,
            "grid_gap": null,
            "grid_row": null,
            "grid_template_areas": null,
            "grid_template_columns": null,
            "grid_template_rows": null,
            "height": null,
            "justify_content": null,
            "justify_items": null,
            "left": null,
            "margin": null,
            "max_height": null,
            "max_width": null,
            "min_height": null,
            "min_width": null,
            "object_fit": null,
            "object_position": null,
            "order": null,
            "overflow": null,
            "overflow_x": null,
            "overflow_y": null,
            "padding": null,
            "right": null,
            "top": null,
            "visibility": null,
            "width": null
          }
        },
        "e49fbcbe2ddc43e38c55601af1535777": {
          "model_module": "@jupyter-widgets/controls",
          "model_name": "DescriptionStyleModel",
          "model_module_version": "1.5.0",
          "state": {
            "_model_module": "@jupyter-widgets/controls",
            "_model_module_version": "1.5.0",
            "_model_name": "DescriptionStyleModel",
            "_view_count": null,
            "_view_module": "@jupyter-widgets/base",
            "_view_module_version": "1.2.0",
            "_view_name": "StyleView",
            "description_width": ""
          }
        },
        "cd5f28eeec8549feb652edb30ff83dea": {
          "model_module": "@jupyter-widgets/controls",
          "model_name": "HBoxModel",
          "model_module_version": "1.5.0",
          "state": {
            "_dom_classes": [],
            "_model_module": "@jupyter-widgets/controls",
            "_model_module_version": "1.5.0",
            "_model_name": "HBoxModel",
            "_view_count": null,
            "_view_module": "@jupyter-widgets/controls",
            "_view_module_version": "1.5.0",
            "_view_name": "HBoxView",
            "box_style": "",
            "children": [
              "IPY_MODEL_f45271c3ac47438a854804d4add22a3b",
              "IPY_MODEL_a51f7887ab3e486d83d9c7af8b1de178",
              "IPY_MODEL_3f7ae4d1022a4ed383f8d4e73cb4021d"
            ],
            "layout": "IPY_MODEL_fe4f4108f68949189c409161f93b7f09"
          }
        },
        "f45271c3ac47438a854804d4add22a3b": {
          "model_module": "@jupyter-widgets/controls",
          "model_name": "HTMLModel",
          "model_module_version": "1.5.0",
          "state": {
            "_dom_classes": [],
            "_model_module": "@jupyter-widgets/controls",
            "_model_module_version": "1.5.0",
            "_model_name": "HTMLModel",
            "_view_count": null,
            "_view_module": "@jupyter-widgets/controls",
            "_view_module_version": "1.5.0",
            "_view_name": "HTMLView",
            "description": "",
            "description_tooltip": null,
            "layout": "IPY_MODEL_6610be0a07b84c04890c0f46c920113b",
            "placeholder": "​",
            "style": "IPY_MODEL_1f9e757863bb49af9c14c8cb26628698",
            "value": "merges.txt: 100%"
          }
        },
        "a51f7887ab3e486d83d9c7af8b1de178": {
          "model_module": "@jupyter-widgets/controls",
          "model_name": "FloatProgressModel",
          "model_module_version": "1.5.0",
          "state": {
            "_dom_classes": [],
            "_model_module": "@jupyter-widgets/controls",
            "_model_module_version": "1.5.0",
            "_model_name": "FloatProgressModel",
            "_view_count": null,
            "_view_module": "@jupyter-widgets/controls",
            "_view_module_version": "1.5.0",
            "_view_name": "ProgressView",
            "bar_style": "success",
            "description": "",
            "description_tooltip": null,
            "layout": "IPY_MODEL_0e72b4ac3c78400e9bc1d163cd5c6837",
            "max": 456318,
            "min": 0,
            "orientation": "horizontal",
            "style": "IPY_MODEL_d13eb00aa08f4a1db7e969dbdfab7248",
            "value": 456318
          }
        },
        "3f7ae4d1022a4ed383f8d4e73cb4021d": {
          "model_module": "@jupyter-widgets/controls",
          "model_name": "HTMLModel",
          "model_module_version": "1.5.0",
          "state": {
            "_dom_classes": [],
            "_model_module": "@jupyter-widgets/controls",
            "_model_module_version": "1.5.0",
            "_model_name": "HTMLModel",
            "_view_count": null,
            "_view_module": "@jupyter-widgets/controls",
            "_view_module_version": "1.5.0",
            "_view_name": "HTMLView",
            "description": "",
            "description_tooltip": null,
            "layout": "IPY_MODEL_7f5fd4c095cd4a1a8ed49ab4c76debfc",
            "placeholder": "​",
            "style": "IPY_MODEL_5c0207e8c94741da99f2880cf181a9a2",
            "value": " 456k/456k [00:00&lt;00:00, 1.73MB/s]"
          }
        },
        "fe4f4108f68949189c409161f93b7f09": {
          "model_module": "@jupyter-widgets/base",
          "model_name": "LayoutModel",
          "model_module_version": "1.2.0",
          "state": {
            "_model_module": "@jupyter-widgets/base",
            "_model_module_version": "1.2.0",
            "_model_name": "LayoutModel",
            "_view_count": null,
            "_view_module": "@jupyter-widgets/base",
            "_view_module_version": "1.2.0",
            "_view_name": "LayoutView",
            "align_content": null,
            "align_items": null,
            "align_self": null,
            "border": null,
            "bottom": null,
            "display": null,
            "flex": null,
            "flex_flow": null,
            "grid_area": null,
            "grid_auto_columns": null,
            "grid_auto_flow": null,
            "grid_auto_rows": null,
            "grid_column": null,
            "grid_gap": null,
            "grid_row": null,
            "grid_template_areas": null,
            "grid_template_columns": null,
            "grid_template_rows": null,
            "height": null,
            "justify_content": null,
            "justify_items": null,
            "left": null,
            "margin": null,
            "max_height": null,
            "max_width": null,
            "min_height": null,
            "min_width": null,
            "object_fit": null,
            "object_position": null,
            "order": null,
            "overflow": null,
            "overflow_x": null,
            "overflow_y": null,
            "padding": null,
            "right": null,
            "top": null,
            "visibility": null,
            "width": null
          }
        },
        "6610be0a07b84c04890c0f46c920113b": {
          "model_module": "@jupyter-widgets/base",
          "model_name": "LayoutModel",
          "model_module_version": "1.2.0",
          "state": {
            "_model_module": "@jupyter-widgets/base",
            "_model_module_version": "1.2.0",
            "_model_name": "LayoutModel",
            "_view_count": null,
            "_view_module": "@jupyter-widgets/base",
            "_view_module_version": "1.2.0",
            "_view_name": "LayoutView",
            "align_content": null,
            "align_items": null,
            "align_self": null,
            "border": null,
            "bottom": null,
            "display": null,
            "flex": null,
            "flex_flow": null,
            "grid_area": null,
            "grid_auto_columns": null,
            "grid_auto_flow": null,
            "grid_auto_rows": null,
            "grid_column": null,
            "grid_gap": null,
            "grid_row": null,
            "grid_template_areas": null,
            "grid_template_columns": null,
            "grid_template_rows": null,
            "height": null,
            "justify_content": null,
            "justify_items": null,
            "left": null,
            "margin": null,
            "max_height": null,
            "max_width": null,
            "min_height": null,
            "min_width": null,
            "object_fit": null,
            "object_position": null,
            "order": null,
            "overflow": null,
            "overflow_x": null,
            "overflow_y": null,
            "padding": null,
            "right": null,
            "top": null,
            "visibility": null,
            "width": null
          }
        },
        "1f9e757863bb49af9c14c8cb26628698": {
          "model_module": "@jupyter-widgets/controls",
          "model_name": "DescriptionStyleModel",
          "model_module_version": "1.5.0",
          "state": {
            "_model_module": "@jupyter-widgets/controls",
            "_model_module_version": "1.5.0",
            "_model_name": "DescriptionStyleModel",
            "_view_count": null,
            "_view_module": "@jupyter-widgets/base",
            "_view_module_version": "1.2.0",
            "_view_name": "StyleView",
            "description_width": ""
          }
        },
        "0e72b4ac3c78400e9bc1d163cd5c6837": {
          "model_module": "@jupyter-widgets/base",
          "model_name": "LayoutModel",
          "model_module_version": "1.2.0",
          "state": {
            "_model_module": "@jupyter-widgets/base",
            "_model_module_version": "1.2.0",
            "_model_name": "LayoutModel",
            "_view_count": null,
            "_view_module": "@jupyter-widgets/base",
            "_view_module_version": "1.2.0",
            "_view_name": "LayoutView",
            "align_content": null,
            "align_items": null,
            "align_self": null,
            "border": null,
            "bottom": null,
            "display": null,
            "flex": null,
            "flex_flow": null,
            "grid_area": null,
            "grid_auto_columns": null,
            "grid_auto_flow": null,
            "grid_auto_rows": null,
            "grid_column": null,
            "grid_gap": null,
            "grid_row": null,
            "grid_template_areas": null,
            "grid_template_columns": null,
            "grid_template_rows": null,
            "height": null,
            "justify_content": null,
            "justify_items": null,
            "left": null,
            "margin": null,
            "max_height": null,
            "max_width": null,
            "min_height": null,
            "min_width": null,
            "object_fit": null,
            "object_position": null,
            "order": null,
            "overflow": null,
            "overflow_x": null,
            "overflow_y": null,
            "padding": null,
            "right": null,
            "top": null,
            "visibility": null,
            "width": null
          }
        },
        "d13eb00aa08f4a1db7e969dbdfab7248": {
          "model_module": "@jupyter-widgets/controls",
          "model_name": "ProgressStyleModel",
          "model_module_version": "1.5.0",
          "state": {
            "_model_module": "@jupyter-widgets/controls",
            "_model_module_version": "1.5.0",
            "_model_name": "ProgressStyleModel",
            "_view_count": null,
            "_view_module": "@jupyter-widgets/base",
            "_view_module_version": "1.2.0",
            "_view_name": "StyleView",
            "bar_color": null,
            "description_width": ""
          }
        },
        "7f5fd4c095cd4a1a8ed49ab4c76debfc": {
          "model_module": "@jupyter-widgets/base",
          "model_name": "LayoutModel",
          "model_module_version": "1.2.0",
          "state": {
            "_model_module": "@jupyter-widgets/base",
            "_model_module_version": "1.2.0",
            "_model_name": "LayoutModel",
            "_view_count": null,
            "_view_module": "@jupyter-widgets/base",
            "_view_module_version": "1.2.0",
            "_view_name": "LayoutView",
            "align_content": null,
            "align_items": null,
            "align_self": null,
            "border": null,
            "bottom": null,
            "display": null,
            "flex": null,
            "flex_flow": null,
            "grid_area": null,
            "grid_auto_columns": null,
            "grid_auto_flow": null,
            "grid_auto_rows": null,
            "grid_column": null,
            "grid_gap": null,
            "grid_row": null,
            "grid_template_areas": null,
            "grid_template_columns": null,
            "grid_template_rows": null,
            "height": null,
            "justify_content": null,
            "justify_items": null,
            "left": null,
            "margin": null,
            "max_height": null,
            "max_width": null,
            "min_height": null,
            "min_width": null,
            "object_fit": null,
            "object_position": null,
            "order": null,
            "overflow": null,
            "overflow_x": null,
            "overflow_y": null,
            "padding": null,
            "right": null,
            "top": null,
            "visibility": null,
            "width": null
          }
        },
        "5c0207e8c94741da99f2880cf181a9a2": {
          "model_module": "@jupyter-widgets/controls",
          "model_name": "DescriptionStyleModel",
          "model_module_version": "1.5.0",
          "state": {
            "_model_module": "@jupyter-widgets/controls",
            "_model_module_version": "1.5.0",
            "_model_name": "DescriptionStyleModel",
            "_view_count": null,
            "_view_module": "@jupyter-widgets/base",
            "_view_module_version": "1.2.0",
            "_view_name": "StyleView",
            "description_width": ""
          }
        },
        "5db577a40253473f98736881d3e694d0": {
          "model_module": "@jupyter-widgets/controls",
          "model_name": "HBoxModel",
          "model_module_version": "1.5.0",
          "state": {
            "_dom_classes": [],
            "_model_module": "@jupyter-widgets/controls",
            "_model_module_version": "1.5.0",
            "_model_name": "HBoxModel",
            "_view_count": null,
            "_view_module": "@jupyter-widgets/controls",
            "_view_module_version": "1.5.0",
            "_view_name": "HBoxView",
            "box_style": "",
            "children": [
              "IPY_MODEL_e844c727f9d44d56aea01bcfe1f31eb4",
              "IPY_MODEL_14778b494e5f42a98c9d321b7f214928",
              "IPY_MODEL_ee0a50ff1cc24845b561cf775e20cd42"
            ],
            "layout": "IPY_MODEL_eed13b46ef844f539371b2a48d9182b8"
          }
        },
        "e844c727f9d44d56aea01bcfe1f31eb4": {
          "model_module": "@jupyter-widgets/controls",
          "model_name": "HTMLModel",
          "model_module_version": "1.5.0",
          "state": {
            "_dom_classes": [],
            "_model_module": "@jupyter-widgets/controls",
            "_model_module_version": "1.5.0",
            "_model_name": "HTMLModel",
            "_view_count": null,
            "_view_module": "@jupyter-widgets/controls",
            "_view_module_version": "1.5.0",
            "_view_name": "HTMLView",
            "description": "",
            "description_tooltip": null,
            "layout": "IPY_MODEL_f299fc97a1e04c768cf3275e904e6484",
            "placeholder": "​",
            "style": "IPY_MODEL_2c850693510f442f8fb7243b455663d9",
            "value": "tokenizer.json: 100%"
          }
        },
        "14778b494e5f42a98c9d321b7f214928": {
          "model_module": "@jupyter-widgets/controls",
          "model_name": "FloatProgressModel",
          "model_module_version": "1.5.0",
          "state": {
            "_dom_classes": [],
            "_model_module": "@jupyter-widgets/controls",
            "_model_module_version": "1.5.0",
            "_model_name": "FloatProgressModel",
            "_view_count": null,
            "_view_module": "@jupyter-widgets/controls",
            "_view_module_version": "1.5.0",
            "_view_name": "ProgressView",
            "bar_style": "success",
            "description": "",
            "description_tooltip": null,
            "layout": "IPY_MODEL_a01c061586ef42b0b4baf3c37e4b2f98",
            "max": 1355863,
            "min": 0,
            "orientation": "horizontal",
            "style": "IPY_MODEL_5c0b35179c124db8aeb14d4619459e19",
            "value": 1355863
          }
        },
        "ee0a50ff1cc24845b561cf775e20cd42": {
          "model_module": "@jupyter-widgets/controls",
          "model_name": "HTMLModel",
          "model_module_version": "1.5.0",
          "state": {
            "_dom_classes": [],
            "_model_module": "@jupyter-widgets/controls",
            "_model_module_version": "1.5.0",
            "_model_name": "HTMLModel",
            "_view_count": null,
            "_view_module": "@jupyter-widgets/controls",
            "_view_module_version": "1.5.0",
            "_view_name": "HTMLView",
            "description": "",
            "description_tooltip": null,
            "layout": "IPY_MODEL_fb9d1be593fa4de49d624f1ea3d43064",
            "placeholder": "​",
            "style": "IPY_MODEL_f74ee2dd8f9445848a8e4976763814f8",
            "value": " 1.36M/1.36M [00:00&lt;00:00, 4.57MB/s]"
          }
        },
        "eed13b46ef844f539371b2a48d9182b8": {
          "model_module": "@jupyter-widgets/base",
          "model_name": "LayoutModel",
          "model_module_version": "1.2.0",
          "state": {
            "_model_module": "@jupyter-widgets/base",
            "_model_module_version": "1.2.0",
            "_model_name": "LayoutModel",
            "_view_count": null,
            "_view_module": "@jupyter-widgets/base",
            "_view_module_version": "1.2.0",
            "_view_name": "LayoutView",
            "align_content": null,
            "align_items": null,
            "align_self": null,
            "border": null,
            "bottom": null,
            "display": null,
            "flex": null,
            "flex_flow": null,
            "grid_area": null,
            "grid_auto_columns": null,
            "grid_auto_flow": null,
            "grid_auto_rows": null,
            "grid_column": null,
            "grid_gap": null,
            "grid_row": null,
            "grid_template_areas": null,
            "grid_template_columns": null,
            "grid_template_rows": null,
            "height": null,
            "justify_content": null,
            "justify_items": null,
            "left": null,
            "margin": null,
            "max_height": null,
            "max_width": null,
            "min_height": null,
            "min_width": null,
            "object_fit": null,
            "object_position": null,
            "order": null,
            "overflow": null,
            "overflow_x": null,
            "overflow_y": null,
            "padding": null,
            "right": null,
            "top": null,
            "visibility": null,
            "width": null
          }
        },
        "f299fc97a1e04c768cf3275e904e6484": {
          "model_module": "@jupyter-widgets/base",
          "model_name": "LayoutModel",
          "model_module_version": "1.2.0",
          "state": {
            "_model_module": "@jupyter-widgets/base",
            "_model_module_version": "1.2.0",
            "_model_name": "LayoutModel",
            "_view_count": null,
            "_view_module": "@jupyter-widgets/base",
            "_view_module_version": "1.2.0",
            "_view_name": "LayoutView",
            "align_content": null,
            "align_items": null,
            "align_self": null,
            "border": null,
            "bottom": null,
            "display": null,
            "flex": null,
            "flex_flow": null,
            "grid_area": null,
            "grid_auto_columns": null,
            "grid_auto_flow": null,
            "grid_auto_rows": null,
            "grid_column": null,
            "grid_gap": null,
            "grid_row": null,
            "grid_template_areas": null,
            "grid_template_columns": null,
            "grid_template_rows": null,
            "height": null,
            "justify_content": null,
            "justify_items": null,
            "left": null,
            "margin": null,
            "max_height": null,
            "max_width": null,
            "min_height": null,
            "min_width": null,
            "object_fit": null,
            "object_position": null,
            "order": null,
            "overflow": null,
            "overflow_x": null,
            "overflow_y": null,
            "padding": null,
            "right": null,
            "top": null,
            "visibility": null,
            "width": null
          }
        },
        "2c850693510f442f8fb7243b455663d9": {
          "model_module": "@jupyter-widgets/controls",
          "model_name": "DescriptionStyleModel",
          "model_module_version": "1.5.0",
          "state": {
            "_model_module": "@jupyter-widgets/controls",
            "_model_module_version": "1.5.0",
            "_model_name": "DescriptionStyleModel",
            "_view_count": null,
            "_view_module": "@jupyter-widgets/base",
            "_view_module_version": "1.2.0",
            "_view_name": "StyleView",
            "description_width": ""
          }
        },
        "a01c061586ef42b0b4baf3c37e4b2f98": {
          "model_module": "@jupyter-widgets/base",
          "model_name": "LayoutModel",
          "model_module_version": "1.2.0",
          "state": {
            "_model_module": "@jupyter-widgets/base",
            "_model_module_version": "1.2.0",
            "_model_name": "LayoutModel",
            "_view_count": null,
            "_view_module": "@jupyter-widgets/base",
            "_view_module_version": "1.2.0",
            "_view_name": "LayoutView",
            "align_content": null,
            "align_items": null,
            "align_self": null,
            "border": null,
            "bottom": null,
            "display": null,
            "flex": null,
            "flex_flow": null,
            "grid_area": null,
            "grid_auto_columns": null,
            "grid_auto_flow": null,
            "grid_auto_rows": null,
            "grid_column": null,
            "grid_gap": null,
            "grid_row": null,
            "grid_template_areas": null,
            "grid_template_columns": null,
            "grid_template_rows": null,
            "height": null,
            "justify_content": null,
            "justify_items": null,
            "left": null,
            "margin": null,
            "max_height": null,
            "max_width": null,
            "min_height": null,
            "min_width": null,
            "object_fit": null,
            "object_position": null,
            "order": null,
            "overflow": null,
            "overflow_x": null,
            "overflow_y": null,
            "padding": null,
            "right": null,
            "top": null,
            "visibility": null,
            "width": null
          }
        },
        "5c0b35179c124db8aeb14d4619459e19": {
          "model_module": "@jupyter-widgets/controls",
          "model_name": "ProgressStyleModel",
          "model_module_version": "1.5.0",
          "state": {
            "_model_module": "@jupyter-widgets/controls",
            "_model_module_version": "1.5.0",
            "_model_name": "ProgressStyleModel",
            "_view_count": null,
            "_view_module": "@jupyter-widgets/base",
            "_view_module_version": "1.2.0",
            "_view_name": "StyleView",
            "bar_color": null,
            "description_width": ""
          }
        },
        "fb9d1be593fa4de49d624f1ea3d43064": {
          "model_module": "@jupyter-widgets/base",
          "model_name": "LayoutModel",
          "model_module_version": "1.2.0",
          "state": {
            "_model_module": "@jupyter-widgets/base",
            "_model_module_version": "1.2.0",
            "_model_name": "LayoutModel",
            "_view_count": null,
            "_view_module": "@jupyter-widgets/base",
            "_view_module_version": "1.2.0",
            "_view_name": "LayoutView",
            "align_content": null,
            "align_items": null,
            "align_self": null,
            "border": null,
            "bottom": null,
            "display": null,
            "flex": null,
            "flex_flow": null,
            "grid_area": null,
            "grid_auto_columns": null,
            "grid_auto_flow": null,
            "grid_auto_rows": null,
            "grid_column": null,
            "grid_gap": null,
            "grid_row": null,
            "grid_template_areas": null,
            "grid_template_columns": null,
            "grid_template_rows": null,
            "height": null,
            "justify_content": null,
            "justify_items": null,
            "left": null,
            "margin": null,
            "max_height": null,
            "max_width": null,
            "min_height": null,
            "min_width": null,
            "object_fit": null,
            "object_position": null,
            "order": null,
            "overflow": null,
            "overflow_x": null,
            "overflow_y": null,
            "padding": null,
            "right": null,
            "top": null,
            "visibility": null,
            "width": null
          }
        },
        "f74ee2dd8f9445848a8e4976763814f8": {
          "model_module": "@jupyter-widgets/controls",
          "model_name": "DescriptionStyleModel",
          "model_module_version": "1.5.0",
          "state": {
            "_model_module": "@jupyter-widgets/controls",
            "_model_module_version": "1.5.0",
            "_model_name": "DescriptionStyleModel",
            "_view_count": null,
            "_view_module": "@jupyter-widgets/base",
            "_view_module_version": "1.2.0",
            "_view_name": "StyleView",
            "description_width": ""
          }
        }
      }
    }
  },
  "cells": [
    {
      "cell_type": "markdown",
      "metadata": {
        "id": "view-in-github",
        "colab_type": "text"
      },
      "source": [
        "<a href=\"https://colab.research.google.com/github/AnastasiiaX/NewYorkTimes_unsupervised_learning/blob/main/Unsupervised_learning_The_NYT.ipynb\" target=\"_parent\"><img src=\"https://colab.research.google.com/assets/colab-badge.svg\" alt=\"Open In Colab\"/></a>"
      ]
    },
    {
      "cell_type": "markdown",
      "source": [
        "##Authors:\n",
        "\n",
        "Anastasiia Kosareva\n",
        "\n",
        "Luis Rheinert"
      ],
      "metadata": {
        "id": "RptIq7ej1fai"
      }
    },
    {
      "cell_type": "markdown",
      "source": [
        "The idea of the project is the same like in project plan, but i little bit modified. In the original plan, we wanted to analyze the Finnish newspaper using the API as well, but we abandoned this idea because analyzing Finnish text is much more difficult than English due to its diversity. So we settled on the idea of ​​analyzing the world-famous newspaper The New York Times.\n",
        "\n",
        "As we all know, journalism should be independent, and the journalist should be unbiased, so that a person can draw conclusions and subject any information to critical evaluation independently. We became interested in whether the articles of such famous newspapers as The NYT contain an emotional background and if so, what is the coloring typical of these articles. We decided to check this on 3 famous politicians: Stubb, Scholz and Putin.\n",
        "\n",
        "In our project we used 2 methods. The first method is Sentiment Clustering. We use KMeans algorithm to cluster TF-IDF representations of text into three groups. This clustering was performed to group text data based on latent structures in the feature space, likely related to sentiment tendencies. We also applied the VADER Sentiment Intensity Analyzer, a rule-based sentiment analysis tool, to classify the articles as Positive, Negative, or Neutral based on their content.The KMeans clustering acted as a preprocessing or auxiliary step to identify potential sentiment-related groups within the data. This was followed by using VADER to provide explicit sentiment labels to the articles.\n",
        "\n",
        "The hierarchical clustering was used as a second method. Sentiment scores are subjected to hierarchical clustering (using the Ward method) to group articles based on their sentiment similarity. This method generates dendrograms to visualize how articles cluster hierarchically."
      ],
      "metadata": {
        "id": "34sBX14WohZg"
      }
    },
    {
      "cell_type": "markdown",
      "source": [
        "## Step 1 is getting data.\n"
      ],
      "metadata": {
        "id": "DxZEJ3Zfh5lg"
      }
    },
    {
      "cell_type": "code",
      "execution_count": null,
      "metadata": {
        "colab": {
          "base_uri": "https://localhost:8080/"
        },
        "id": "xFlkWCmNWSm9",
        "outputId": "122344d8-ede1-4672-bea6-c7796f334be6"
      },
      "outputs": [
        {
          "output_type": "stream",
          "name": "stdout",
          "text": [
            "Collecting pynytimes\n",
            "  Downloading pynytimes-0.10.0-py3-none-any.whl.metadata (8.2 kB)\n",
            "Requirement already satisfied: requests<3.0.0,>=2.10.0 in /usr/local/lib/python3.10/dist-packages (from pynytimes) (2.32.3)\n",
            "Requirement already satisfied: urllib3 in /usr/local/lib/python3.10/dist-packages (from pynytimes) (2.2.3)\n",
            "Requirement already satisfied: charset-normalizer<4,>=2 in /usr/local/lib/python3.10/dist-packages (from requests<3.0.0,>=2.10.0->pynytimes) (3.4.0)\n",
            "Requirement already satisfied: idna<4,>=2.5 in /usr/local/lib/python3.10/dist-packages (from requests<3.0.0,>=2.10.0->pynytimes) (3.10)\n",
            "Requirement already satisfied: certifi>=2017.4.17 in /usr/local/lib/python3.10/dist-packages (from requests<3.0.0,>=2.10.0->pynytimes) (2024.8.30)\n",
            "Downloading pynytimes-0.10.0-py3-none-any.whl (20 kB)\n",
            "Installing collected packages: pynytimes\n",
            "Successfully installed pynytimes-0.10.0\n"
          ]
        }
      ],
      "source": [
        "pip install pynytimes"
      ]
    },
    {
      "cell_type": "markdown",
      "source": [
        "As always the main step in the begginig is importing libraries."
      ],
      "metadata": {
        "id": "mZTVsdg68VKG"
      }
    },
    {
      "cell_type": "code",
      "source": [
        "import datetime\n",
        "import pandas as pd\n",
        "from pynytimes import NYTAPI\n",
        "import time"
      ],
      "metadata": {
        "id": "L8ii4pqGWtwt"
      },
      "execution_count": null,
      "outputs": []
    },
    {
      "cell_type": "markdown",
      "source": [
        "There are a lot of articles from users and official documentation from The NYT in internet, how to get started with The NYT API.\n",
        "We just created an account on the New York Times Developer Platform. Fortunately, this is completely free of charge.\n",
        "So, in the next code line you can see our API key."
      ],
      "metadata": {
        "id": "53XIE-iH8d7O"
      }
    },
    {
      "cell_type": "code",
      "source": [
        "nyt = NYTAPI(\"vJbTzhNZAmMKSW9TR3jRyPK6qeYPGfF5\", parse_dates=True)"
      ],
      "metadata": {
        "id": "5MmjKk06WWUp"
      },
      "execution_count": null,
      "outputs": []
    },
    {
      "cell_type": "markdown",
      "source": [
        "As we alredy told, there is a documentation, how to use API, what kind of data can be collected, parameters for functions etc. Here is a link: https://developer.nytimes.com/"
      ],
      "metadata": {
        "id": "KQFakFY099Yb"
      }
    },
    {
      "cell_type": "markdown",
      "source": [
        " The NYT API documentation says, that code can display only 10 articles per page and amout of page can be 100. So, max 1000 articles can be analyzed.\n",
        " It is very hard to analyze 1000 articles for each of 3 politicians, and our plan A was to use 100 articles for each politician, but something went wrong, and after many hours spent to make it work, we decided to put this idea aside and analyze only 10 articles for each politician. The problem is that each 10 collected articles must be on a separate page. The documentation does not say how to do this, all the methods we tried did not help."
      ],
      "metadata": {
        "id": "jMPsVPuY1GU8"
      }
    },
    {
      "cell_type": "code",
      "source": [
        "def fetch_10_articles(query, begin_date, end_date):\n",
        "    all_articles = []  # List to store articles\n",
        "\n",
        "    print(f\"Fetching up to 10 articles for '{query}'...\")\n",
        "\n",
        "    try:\n",
        "        # Fetch the articles (limit to 10 results)\n",
        "        articles = nyt.article_search(\n",
        "            query=query,\n",
        "            results=10,  # Fetch up to 10 results\n",
        "            dates={\"begin\": begin_date, \"end\": end_date}\n",
        "        )\n",
        "\n",
        "        # Check if articles were found from the newspaper\n",
        "        if articles:  # Ensure there's a valid check for articles\n",
        "            all_articles.extend(articles)\n",
        "            print(f\"Found {len(articles)} articles for '{query}'.\")\n",
        "        else:\n",
        "            print(f\"No articles found for '{query}'.\")\n",
        "    except Exception as e:\n",
        "        print(f\"Error fetching articles: {e}\")\n",
        "\n",
        "    return all_articles[:10]  # Return up to 10 articles\n",
        "\n",
        "\n",
        "# Define the list of politicians and their queries\n",
        "politicians = [\"Putin\", \"Stubb\", \"Scholz\"]\n",
        "\n",
        "# Define the date range for articles\n",
        "begin_date = datetime.datetime(2024, 3, 1)  # Start date, On this day, Stubb became the president of Finland\n",
        "end_date = datetime.datetime.now()  # End date (current date)\n",
        "\n",
        "# Fetch and store articles for each politician\n",
        "for politician in politicians:\n",
        "    # Fetch articles for the politician\n",
        "    articles = fetch_10_articles(politician, begin_date, end_date)\n",
        "\n",
        "    # Check if articles were fetched\n",
        "    if articles:\n",
        "        # Convert the articles into a DataFrame\n",
        "        df = pd.DataFrame(articles)\n",
        "\n",
        "        # Save the articles to a CSV file named based on the politician's name\n",
        "        file_name = f\"nyt_{politician.replace(' ', '_').lower()}_articles.csv\"\n",
        "        df.to_csv(file_name, index=False)\n",
        "        print(f\"Articles for {politician} saved to {file_name}\")\n",
        "    else:\n",
        "        print(f\"No articles found for {politician}.\")"
      ],
      "metadata": {
        "colab": {
          "base_uri": "https://localhost:8080/"
        },
        "id": "99w7dKcXa568",
        "outputId": "67bc56f6-a6f3-40af-e3b2-2917aa52235b"
      },
      "execution_count": null,
      "outputs": [
        {
          "output_type": "stream",
          "name": "stdout",
          "text": [
            "Fetching up to 10 articles for 'Putin'...\n",
            "Found 10 articles for 'Putin'.\n",
            "Articles for Putin saved to nyt_putin_articles.csv\n",
            "Fetching up to 10 articles for 'Stubb'...\n",
            "Found 10 articles for 'Stubb'.\n",
            "Articles for Stubb saved to nyt_stubb_articles.csv\n",
            "Fetching up to 10 articles for 'Scholz'...\n",
            "Found 10 articles for 'Scholz'.\n",
            "Articles for Scholz saved to nyt_scholz_articles.csv\n"
          ]
        }
      ]
    },
    {
      "cell_type": "markdown",
      "source": [
        "Now, we have 3 data frames with 10 articles for each president."
      ],
      "metadata": {
        "id": "gB7hGAedASdt"
      }
    },
    {
      "cell_type": "code",
      "source": [
        "df_putin = pd.read_csv('nyt_putin_articles.csv')\n",
        "df_scholz = pd.read_csv('nyt_scholz_articles.csv')\n",
        "df_stubb = pd.read_csv('nyt_stubb_articles.csv')\n",
        "\n",
        "print(df_putin.columns)"
      ],
      "metadata": {
        "colab": {
          "base_uri": "https://localhost:8080/"
        },
        "id": "Jx8pDNigeC4V",
        "outputId": "e263ecf2-62c9-4deb-f815-483764f64c2e"
      },
      "execution_count": null,
      "outputs": [
        {
          "output_type": "stream",
          "name": "stdout",
          "text": [
            "Index(['abstract', 'web_url', 'snippet', 'lead_paragraph', 'print_section',\n",
            "       'print_page', 'source', 'multimedia', 'headline', 'keywords',\n",
            "       'pub_date', 'document_type', 'news_desk', 'section_name',\n",
            "       'subsection_name', 'byline', 'type_of_material', '_id', 'word_count',\n",
            "       'uri'],\n",
            "      dtype='object')\n"
          ]
        }
      ]
    },
    {
      "cell_type": "markdown",
      "source": [
        "## Step 2 is Text Preprocessing.\n",
        "There are some aspects, which we need to complete to prepare our data frames for analyzing:\n",
        "- Stop words removing\n",
        "- Punctuation, numbers and special characters removing\n",
        "- HTML tags removing\n",
        "- Converting text to lowercase\n",
        "- Text tokenizing"
      ],
      "metadata": {
        "id": "fxL_5iYug8Y4"
      }
    },
    {
      "cell_type": "code",
      "source": [
        "import re\n",
        "import nltk\n",
        "nltk.download('punkt_tab')\n",
        "from bs4 import BeautifulSoup\n",
        "from nltk.corpus import stopwords\n",
        "from nltk.tokenize import word_tokenize"
      ],
      "metadata": {
        "colab": {
          "base_uri": "https://localhost:8080/"
        },
        "id": "2z5Ac38gg74g",
        "outputId": "4a2ba312-c18a-4fb4-f59f-85d58b10f4ee"
      },
      "execution_count": null,
      "outputs": [
        {
          "output_type": "stream",
          "name": "stderr",
          "text": [
            "[nltk_data] Downloading package punkt_tab to /root/nltk_data...\n",
            "[nltk_data]   Unzipping tokenizers/punkt_tab.zip.\n"
          ]
        }
      ]
    },
    {
      "cell_type": "code",
      "source": [
        "nltk.download('stopwords')\n",
        "nltk.download('punkt')"
      ],
      "metadata": {
        "colab": {
          "base_uri": "https://localhost:8080/"
        },
        "id": "bSM7KSCOleDq",
        "outputId": "291fee7d-7d71-4843-d43a-ef47b4b5d05b"
      },
      "execution_count": null,
      "outputs": [
        {
          "output_type": "stream",
          "name": "stderr",
          "text": [
            "[nltk_data] Downloading package stopwords to /root/nltk_data...\n",
            "[nltk_data]   Unzipping corpora/stopwords.zip.\n",
            "[nltk_data] Downloading package punkt to /root/nltk_data...\n",
            "[nltk_data]   Unzipping tokenizers/punkt.zip.\n"
          ]
        },
        {
          "output_type": "execute_result",
          "data": {
            "text/plain": [
              "True"
            ]
          },
          "metadata": {},
          "execution_count": 7
        }
      ]
    },
    {
      "cell_type": "code",
      "source": [
        "def preprocess_text(text):\n",
        "    # Lowercase\n",
        "    text = text.lower()\n",
        "\n",
        "    # Punctuation, numbers and special characters removing\n",
        "    text = re.sub(r'[^a-zA-Z\\s]', '', text)\n",
        "\n",
        "    # HTML tags removing\n",
        "    text = BeautifulSoup(text, \"html.parser\").get_text()\n",
        "\n",
        "    # Tokenizing\n",
        "    tokens = word_tokenize(text)\n",
        "\n",
        "    # Remove stopwords removing\n",
        "    stop_words = set(stopwords.words('english'))\n",
        "    tokens = [word for word in tokens if word not in stop_words]\n",
        "\n",
        "    # Join the tokens back into a string\n",
        "    processed_text = \" \".join(tokens)\n",
        "    return processed_text\n",
        "\n",
        "# Apply preprocessing to all articles in your DataFrame\n",
        "df_putin['processed_text'] = df_putin['snippet'].apply(preprocess_text)\n",
        "df_scholz['processed_text'] = df_scholz['snippet'].apply(preprocess_text)\n",
        "df_stubb['processed_text'] = df_stubb['snippet'].apply(preprocess_text)"
      ],
      "metadata": {
        "id": "Fh9DihvJn_P-"
      },
      "execution_count": null,
      "outputs": []
    },
    {
      "cell_type": "markdown",
      "source": [
        "## Step 3 is Vectorization\n",
        "We will use TF-IDF to convert the cleaned text into numerical data for ML modeling.\n",
        "\n",
        "'In information retrieval, tf–idf (also TF*IDF, TFIDF, TF–IDF, or Tf–idf), short for term frequency–inverse document frequency, is a measure of importance of a word to a document in a collection or corpus, adjusted for the fact that some words appear more frequently in general. Like the bag-of-words model, it models a document as a multiset of words, without word order. It is a refinement over the simple bag-of-words model, by allowing the weight of words to depend on the rest of the corpus.' https://en.wikipedia.org/wiki/Tf%E2%80%93idf\n",
        "\n",
        "Tutorial: https://scikit-learn.org/1.5/modules/generated/sklearn.feature_extraction.text.TfidfVectorizer.html\n"
      ],
      "metadata": {
        "id": "m52ORVmmpBr4"
      }
    },
    {
      "cell_type": "code",
      "source": [
        "from sklearn.feature_extraction.text import TfidfVectorizer\n",
        "\n",
        "all_articles = pd.concat([df_putin['processed_text'], df_scholz['processed_text'], df_stubb['processed_text']])\n",
        "\n",
        "vectorizer = TfidfVectorizer()\n",
        "X = vectorizer.fit_transform(all_articles)"
      ],
      "metadata": {
        "id": "QyBgqf4bpOwG"
      },
      "execution_count": null,
      "outputs": []
    },
    {
      "cell_type": "markdown",
      "source": [
        "## Step 4 is Clustering.\n",
        "We make it to group together numerical text (our text is represented in numerical format after vectorization). We will cluster the data using K-means algorithm.\n",
        "\n",
        "'Unsupervised Machine Learning is the process of teaching a computer to use unlabeled, unclassified data and enabling the algorithm to operate on that data without supervision. Without any previous data training, the machine’s job in this case is to organize unsorted data according to parallels, patterns, and variations.\n",
        "\n",
        "K means clustering, assigns data points to one of the K clusters depending on their distance from the center of the clusters. It starts by randomly assigning the clusters centroid in the space. Then each data point assign to one of the cluster based on its distance from centroid of the cluster. After assigning each point to one of the cluster, new cluster centroids are assigned. This process runs iteratively until it finds good cluster. In the analysis we assume that number of cluster is given in advanced and we have to put points in one of the group.' https://www.geeksforgeeks.org/k-means-clustering-introduction/"
      ],
      "metadata": {
        "id": "HR3d8Lr4WEqA"
      }
    },
    {
      "cell_type": "code",
      "source": [
        "pip install vaderSentiment"
      ],
      "metadata": {
        "id": "dnvBq710WkS5",
        "colab": {
          "base_uri": "https://localhost:8080/"
        },
        "outputId": "5f66dd9d-880b-40c1-f3da-a4369c44d95d"
      },
      "execution_count": null,
      "outputs": [
        {
          "output_type": "stream",
          "name": "stdout",
          "text": [
            "Collecting vaderSentiment\n",
            "  Downloading vaderSentiment-3.3.2-py2.py3-none-any.whl.metadata (572 bytes)\n",
            "Requirement already satisfied: requests in /usr/local/lib/python3.10/dist-packages (from vaderSentiment) (2.32.3)\n",
            "Requirement already satisfied: charset-normalizer<4,>=2 in /usr/local/lib/python3.10/dist-packages (from requests->vaderSentiment) (3.4.0)\n",
            "Requirement already satisfied: idna<4,>=2.5 in /usr/local/lib/python3.10/dist-packages (from requests->vaderSentiment) (3.10)\n",
            "Requirement already satisfied: urllib3<3,>=1.21.1 in /usr/local/lib/python3.10/dist-packages (from requests->vaderSentiment) (2.2.3)\n",
            "Requirement already satisfied: certifi>=2017.4.17 in /usr/local/lib/python3.10/dist-packages (from requests->vaderSentiment) (2024.8.30)\n",
            "Downloading vaderSentiment-3.3.2-py2.py3-none-any.whl (125 kB)\n",
            "\u001b[2K   \u001b[90m━━━━━━━━━━━━━━━━━━━━━━━━━━━━━━━━━━━━━━━━\u001b[0m \u001b[32m126.0/126.0 kB\u001b[0m \u001b[31m2.4 MB/s\u001b[0m eta \u001b[36m0:00:00\u001b[0m\n",
            "\u001b[?25hInstalling collected packages: vaderSentiment\n",
            "Successfully installed vaderSentiment-3.3.2\n"
          ]
        }
      ]
    },
    {
      "cell_type": "markdown",
      "source": [
        "I the text below, we are using VADER Sentiment analyzer. But what it is?\n",
        "VADER (Valence Aware Dictionary and sEntiment Reasoner) is a rule-based sentiment analysis tool that is specifically designed for analyzing social media texts. Vader is a pre-trained sentiment analysis model that provides a sentiment score for a given text.\n",
        "\n",
        "https://www.geeksforgeeks.org/python-sentiment-analysis-using-vader/"
      ],
      "metadata": {
        "id": "FUyu0-NaCDSz"
      }
    },
    {
      "cell_type": "code",
      "source": [
        "from sklearn.cluster import KMeans\n",
        "import pandas as pd\n",
        "import numpy as np\n",
        "from vaderSentiment.vaderSentiment import SentimentIntensityAnalyzer\n",
        "\n",
        "# Initialize VADER Sentiment analyzer\n",
        "analyzer = SentimentIntensityAnalyzer()\n",
        "\n",
        "# Function to calculate sentiment for each article\n",
        "def get_sentiment(text):\n",
        "    sentiment_score = analyzer.polarity_scores(text)\n",
        "    if sentiment_score['compound'] >= 0.05:\n",
        "        return 'Positive'\n",
        "    elif sentiment_score['compound'] <= -0.05:\n",
        "        return 'Negative'\n",
        "    else:\n",
        "        return 'Neutral'\n",
        "\n",
        "# Assuming X is TF-IDF matrix, we are using 3 clusters, because the idea is to assign each word to one of 3 sentiments: positive, neural, negative\n",
        "kmeans = KMeans(n_clusters=3, random_state=42, n_init=10)\n",
        "all_articles['cluster'] = kmeans.fit_predict(X)\n",
        "\n",
        "# Add clusters to the original articles DataFrame\n",
        "df_putin['cluster'] = kmeans.labels_[:len(df_putin)]\n",
        "df_scholz['cluster'] = kmeans.labels_[len(df_putin):len(df_putin) + len(df_scholz)]\n",
        "df_stubb['cluster'] = kmeans.labels_[len(df_putin) + len(df_scholz):]\n",
        "\n",
        "# Combine all data back into one DataFrame\n",
        "all_articles_df = pd.concat([df_putin, df_scholz, df_stubb], keys=['Putin', 'Scholz', 'Stubb'])\n",
        "all_articles_df.reset_index(level=0, inplace=True)\n",
        "all_articles_df.rename(columns={'level_0': 'politician'}, inplace=True)\n",
        "\n",
        "# Apply the sentiment function to all articles\n",
        "all_articles_df['sentiment'] = all_articles_df['processed_text'].apply(get_sentiment)"
      ],
      "metadata": {
        "id": "UXXajft_x3Xq"
      },
      "execution_count": null,
      "outputs": []
    },
    {
      "cell_type": "markdown",
      "source": [
        "## Step 5: Analyze and show the sentiment distribution for each politician\n"
      ],
      "metadata": {
        "id": "MqeUyvyJDcsZ"
      }
    },
    {
      "cell_type": "code",
      "source": [
        "sentiment_distribution = all_articles_df.groupby('politician')['sentiment'].value_counts(normalize=True).unstack(fill_value=0)\n",
        "\n",
        "print(\"Sentiment Distribution for Each Politician:\")\n",
        "print(sentiment_distribution)\n",
        "\n",
        "sentiment_distribution.to_csv(\"sentiment_distribution.csv\")\n",
        "\n",
        "#Show the top 10 terms per cluster\n",
        "import numpy as np\n",
        "\n",
        "# Get the cluster centers (terms importance for each cluster)\n",
        "cluster_centers = kmeans.cluster_centers_\n",
        "\n",
        "# Get the indices of the top 10 terms for each cluster\n",
        "top_terms_per_cluster = np.argsort(cluster_centers, axis=1)[:, -10:]\n",
        "\n",
        "for i, terms in enumerate(top_terms_per_cluster):\n",
        "    print(f\"Cluster {i}: {[vectorizer.get_feature_names_out()[term] for term in terms]}\")\n",
        "\n",
        "all_articles_df.to_csv(\"all_articles_with_sentiments.csv\", index=False)"
      ],
      "metadata": {
        "colab": {
          "base_uri": "https://localhost:8080/"
        },
        "id": "CvDMG-BwDhZD",
        "outputId": "b22167a0-12dc-47a4-8f5f-6b3834b3f11e"
      },
      "execution_count": null,
      "outputs": [
        {
          "output_type": "stream",
          "name": "stdout",
          "text": [
            "Sentiment Distribution for Each Politician:\n",
            "sentiment   Negative  Neutral  Positive\n",
            "politician                             \n",
            "Putin            0.9      0.1       0.0\n",
            "Scholz           0.5      0.3       0.2\n",
            "Stubb            0.5      0.1       0.4\n",
            "Cluster 0: ['germany', 'political', 'company', 'influence', 'russia', 'country', 'time', 'russian', 'new', 'leader']\n",
            "Cluster 1: ['chancellor', 'olaf', 'vladimir', 'scholz', 'ukraine', 'call', 'officials', 'mr', 'president', 'putin']\n",
            "Cluster 2: ['collapse', 'trump', 'kremlin', 'harbinger', 'election', 'tariffs', 'trumps', 'american', 'donald', 'presidentelect']\n"
          ]
        }
      ]
    },
    {
      "cell_type": "markdown",
      "source": [
        "The result was to some extent quite expected, but still some moments were surprising. Of course all articles has emotional bakground, very low percent of neural sentiment.\n",
        "\n",
        "From the very beginning it was obvious that Putin would not be a positive character, and so it turned out, 90 percent of the articles contain a negative connotation and 0 percent positive subtext.\n",
        "\n",
        "Most of the articles written about Scholz are bad, but there are both positive and neutral ones.\n",
        "\n",
        "Stubb is between positive and negative sentiments, 50 percent negative sentiment and 40 percent positive."
      ],
      "metadata": {
        "id": "1Qk4llhoE07a"
      }
    },
    {
      "cell_type": "markdown",
      "source": [
        "# **Part 2: Hierarchical Clutering**\n",
        "In this part we are analyzing the newspaper articles about Scholz, Stubb and Putin and cluster those articles based on their sentiment scores. We also create a boxplot for better overview about average scores and their quartiles and possible outliners and minimum and maximums.\n",
        "\n"
      ],
      "metadata": {
        "id": "yOyhhaTn41JZ"
      }
    },
    {
      "cell_type": "markdown",
      "source": [
        "To do so we start with the already preprocessed text about each politician. For the sentiment analysis we use the zero_shot_pipeline and the facebook/bart-large-mnli model, beacuse it can analyse newspaper articles quite well. We created 5 categories for the sentiment score to get more precise outcomes. We let the model analyze the sentiment and give it a score. Than we create a dendogram with the bottom up method which links the closes artciles together based on their sentiment score (with the lowest distance) and than goes to the next level. The lower the distance between two articles the more even they are in terms of sentiment."
      ],
      "metadata": {
        "id": "ACWNqvk_k3nh"
      }
    },
    {
      "cell_type": "code",
      "source": [
        "# Install the required package\n",
        "!pip install transformers\n",
        "\n",
        "# Import necessary libraries\n",
        "from transformers import pipeline\n",
        "import pandas as pd\n",
        "import numpy as np\n",
        "import matplotlib.pyplot as plt\n",
        "from scipy.cluster.hierarchy import linkage, dendrogram\n",
        "\n",
        "# Define your Zero-Shot Learning pipeline\n",
        "zero_shot_pipeline = pipeline(\"zero-shot-classification\", model=\"facebook/bart-large-mnli\")\n",
        "\n",
        "# Define custom sentiment categories\n",
        "candidate_labels = [\"strongly negative\", \"slightly negative\", \"neutral\", \"slightly positive\", \"strongly positive\"]\n",
        "\n",
        "# Replace these with your actual dataframe columns\n",
        "texts_scholz = df_scholz['processed_text'].tolist()  # Scholz articles\n",
        "texts_stubb = df_stubb['processed_text'].tolist()    # Stubb articles\n",
        "texts_putin = df_putin['processed_text'].tolist()    # Putin articles\n",
        "\n",
        "\n",
        "# Extract only the 'main' field from the header_scholz list\n",
        "titles_scholz = [eval(article).get('main') for article in df_scholz['headline'].tolist()]\n",
        "titles_stubb = [eval(article).get('main') for article in df_stubb['headline'].tolist()]\n",
        "titles_putin = [eval(article).get('main') for article in df_putin['headline'].tolist()]\n",
        "\n",
        "\n",
        "# Function to map the results to sentiment scores between [-1, 1]\n",
        "def map_to_sentiment_score(label, score):\n",
        "    sentiment_map = {\n",
        "        \"strongly negative\": -1,\n",
        "        \"slightly negative\": -0.5,\n",
        "        \"neutral\": 0,\n",
        "        \"slightly positive\": 0.5,\n",
        "        \"strongly positive\": 1\n",
        "    }\n",
        "    return sentiment_map[label] * score  # Scale by the confidence score\n",
        "\n",
        "# Function to classify sentiment and return sentiment scores for each person\n",
        "def get_sentiment_scores(texts):\n",
        "    results = [zero_shot_pipeline(text, candidate_labels=candidate_labels) for text in texts]\n",
        "    scores = []\n",
        "    for result in results:\n",
        "        best_label = result['labels'][0]  # Get the highest confidence label\n",
        "        best_score = result['scores'][0]  # Get the corresponding score\n",
        "        sentiment_score = map_to_sentiment_score(best_label, best_score)\n",
        "        scores.append(sentiment_score)\n",
        "    return scores\n",
        "\n",
        "# Get sentiment scores for Scholz, Stubb, and Putin\n",
        "scores_scholz = get_sentiment_scores(texts_scholz)\n",
        "scores_stubb = get_sentiment_scores(texts_stubb)\n",
        "scores_putin = get_sentiment_scores(texts_putin)\n",
        "\n",
        "# Print the sentiment scores for each\n",
        "print(\"Scholz Sentiment Scores:\", scores_scholz)\n",
        "print(\"\\nStubb Sentiment Scores:\", scores_stubb)\n",
        "print(\"\\nPutin Sentiment Scores:\", scores_putin)\n",
        "\n",
        "# Function to create and plot hierarchical clustering\n",
        "def plot_hierarchical_clustering(scores, header, title):\n",
        "    hier_scores = np.array(scores).reshape(-1, 1)\n",
        "    Z = linkage(hier_scores, method=\"ward\") #We use the bottom up method\n",
        "    article_labels = [f\"Article {i + 1}\" for i in range(len(scores))]\n",
        "\n",
        "    plt.figure(figsize=(10, 6))\n",
        "    dendrogram(Z, labels=article_labels, orientation=\"top\", color_threshold=0.5)\n",
        "    plt.title(title)\n",
        "    plt.xlabel(\"Article\")\n",
        "    plt.xticks(rotation=90, fontsize=8)\n",
        "    plt.ylabel(\"Distance\")\n",
        "    plt.tight_layout()\n",
        "    plt.show()\n",
        "\n",
        "    print(\"\\n\")\n",
        "    for i, label in enumerate(article_labels):\n",
        "        print(f\"{label}: {header[i]} --- Score: {scores[i]}\")\n",
        "    print(\"\\n\")\n",
        "\n",
        "\n",
        "# Create and plot hierarchical clustering for Scholz, Stubb, and Putin\n",
        "plot_hierarchical_clustering(scores_scholz, titles_scholz,\"Hierarchical Clustering of Scholz's Articles Based on Sentiment\")\n",
        "plot_hierarchical_clustering(scores_stubb, titles_stubb,\"Hierarchical Clustering of Stubb's Articles Based on Sentiment\")\n",
        "plot_hierarchical_clustering(scores_putin, titles_putin,\"Hierarchical Clustering of Putin's Articles Based on Sentiment\")"
      ],
      "metadata": {
        "colab": {
          "base_uri": "https://localhost:8080/",
          "height": 1000,
          "referenced_widgets": [
            "d3ed3c7af3b14da98cd1ffd6c217fcf7",
            "5f77ee356d794de5b40db693bc922682",
            "5d8257a8deb143e89028589ef688e039",
            "82c283eda7cd4a13a7e35d2592da25a7",
            "03ef6bb86fac49b990a2715306fb3f39",
            "edb55c1184c0492984d0aca76ec5fd47",
            "add382f74d0549eea0f8f0dcceed5616",
            "d395887794f34ab2b13e3a230b130b9f",
            "23ca157b5a1c4d6199345219e2485dbd",
            "7d1658ddbf3d4fd1a310fd6ecaa43e83",
            "c2086c2da9074e238bbbe7e2f3297610",
            "ea81d7f20a5545b8a33b306df81284bc",
            "045e80f0322e49ee9e4969e9e0e7794c",
            "be95004cb3d3419dbf97abdb9529acb4",
            "dfdd8477a21446c4a2e17388842be88e",
            "0738af9ee7fb4219b0c559273e3ff3f8",
            "86d55537883f4fafbaedd1f25200577a",
            "ed754787e8e0473bbd47e8af4b233a7d",
            "4dece701d4664bebb5a5d71df86c70a8",
            "792d308d023c40e4a63e4378c0f13ea5",
            "45823ee584014037b4259468a8cff65c",
            "e7de5efd6ae244178da6e575878db26b",
            "c1112cc6afa943f18939cbdec0034630",
            "047e4d3c77594a99984768baceb7b79c",
            "a9a2c3fbdd9147cf9fec1ec0de77ae12",
            "2f1658ef2aa94152a90e24f2b44dc75b",
            "63b633b14d344f09a39b740469337c38",
            "3189e6117ee2499e854fd4e47ba3618e",
            "48c045806561410289ea0946679d0982",
            "42a9cdf2615f4b1c8d22f5b74e2d71f1",
            "10950795990b40a391bd8091e9d66d52",
            "6708de4e070542fa8ee5c614813854b5",
            "54ac292101534f43be5ffb1649d660e1",
            "24011d9090004d6991785ceb00dd764e",
            "689e8557b1d544f2829dedacdd4fcdef",
            "a5fec40893c34dd78edeb5044faa4b69",
            "d26471c9c2dc4aed88438b7e97db5b9d",
            "1dfb6f92c4a94c7194d612d386101442",
            "6e0b33c8569942a48dae676effdc720c",
            "7e6bf169edb34f08bb5c9e343c500320",
            "346b2047958a4f1aa88e9e30dc1cf864",
            "4eb3997065464778a551a80b6e1ceaab",
            "15714101bde84c07bf4afaaf58023198",
            "e49fbcbe2ddc43e38c55601af1535777",
            "cd5f28eeec8549feb652edb30ff83dea",
            "f45271c3ac47438a854804d4add22a3b",
            "a51f7887ab3e486d83d9c7af8b1de178",
            "3f7ae4d1022a4ed383f8d4e73cb4021d",
            "fe4f4108f68949189c409161f93b7f09",
            "6610be0a07b84c04890c0f46c920113b",
            "1f9e757863bb49af9c14c8cb26628698",
            "0e72b4ac3c78400e9bc1d163cd5c6837",
            "d13eb00aa08f4a1db7e969dbdfab7248",
            "7f5fd4c095cd4a1a8ed49ab4c76debfc",
            "5c0207e8c94741da99f2880cf181a9a2",
            "5db577a40253473f98736881d3e694d0",
            "e844c727f9d44d56aea01bcfe1f31eb4",
            "14778b494e5f42a98c9d321b7f214928",
            "ee0a50ff1cc24845b561cf775e20cd42",
            "eed13b46ef844f539371b2a48d9182b8",
            "f299fc97a1e04c768cf3275e904e6484",
            "2c850693510f442f8fb7243b455663d9",
            "a01c061586ef42b0b4baf3c37e4b2f98",
            "5c0b35179c124db8aeb14d4619459e19",
            "fb9d1be593fa4de49d624f1ea3d43064",
            "f74ee2dd8f9445848a8e4976763814f8"
          ]
        },
        "id": "0KUFTsQbJgnl",
        "outputId": "74263b7f-d486-484e-f0b9-a540f0f698ad"
      },
      "execution_count": null,
      "outputs": [
        {
          "output_type": "stream",
          "name": "stdout",
          "text": [
            "Requirement already satisfied: transformers in /usr/local/lib/python3.10/dist-packages (4.46.3)\n",
            "Requirement already satisfied: filelock in /usr/local/lib/python3.10/dist-packages (from transformers) (3.16.1)\n",
            "Requirement already satisfied: huggingface-hub<1.0,>=0.23.2 in /usr/local/lib/python3.10/dist-packages (from transformers) (0.26.3)\n",
            "Requirement already satisfied: numpy>=1.17 in /usr/local/lib/python3.10/dist-packages (from transformers) (1.26.4)\n",
            "Requirement already satisfied: packaging>=20.0 in /usr/local/lib/python3.10/dist-packages (from transformers) (24.2)\n",
            "Requirement already satisfied: pyyaml>=5.1 in /usr/local/lib/python3.10/dist-packages (from transformers) (6.0.2)\n",
            "Requirement already satisfied: regex!=2019.12.17 in /usr/local/lib/python3.10/dist-packages (from transformers) (2024.9.11)\n",
            "Requirement already satisfied: requests in /usr/local/lib/python3.10/dist-packages (from transformers) (2.32.3)\n",
            "Requirement already satisfied: tokenizers<0.21,>=0.20 in /usr/local/lib/python3.10/dist-packages (from transformers) (0.20.3)\n",
            "Requirement already satisfied: safetensors>=0.4.1 in /usr/local/lib/python3.10/dist-packages (from transformers) (0.4.5)\n",
            "Requirement already satisfied: tqdm>=4.27 in /usr/local/lib/python3.10/dist-packages (from transformers) (4.66.6)\n",
            "Requirement already satisfied: fsspec>=2023.5.0 in /usr/local/lib/python3.10/dist-packages (from huggingface-hub<1.0,>=0.23.2->transformers) (2024.10.0)\n",
            "Requirement already satisfied: typing-extensions>=3.7.4.3 in /usr/local/lib/python3.10/dist-packages (from huggingface-hub<1.0,>=0.23.2->transformers) (4.12.2)\n",
            "Requirement already satisfied: charset-normalizer<4,>=2 in /usr/local/lib/python3.10/dist-packages (from requests->transformers) (3.4.0)\n",
            "Requirement already satisfied: idna<4,>=2.5 in /usr/local/lib/python3.10/dist-packages (from requests->transformers) (3.10)\n",
            "Requirement already satisfied: urllib3<3,>=1.21.1 in /usr/local/lib/python3.10/dist-packages (from requests->transformers) (2.2.3)\n",
            "Requirement already satisfied: certifi>=2017.4.17 in /usr/local/lib/python3.10/dist-packages (from requests->transformers) (2024.8.30)\n"
          ]
        },
        {
          "output_type": "stream",
          "name": "stderr",
          "text": [
            "/usr/local/lib/python3.10/dist-packages/huggingface_hub/utils/_auth.py:94: UserWarning: \n",
            "The secret `HF_TOKEN` does not exist in your Colab secrets.\n",
            "To authenticate with the Hugging Face Hub, create a token in your settings tab (https://huggingface.co/settings/tokens), set it as secret in your Google Colab and restart your session.\n",
            "You will be able to reuse this secret in all of your notebooks.\n",
            "Please note that authentication is recommended but still optional to access public models or datasets.\n",
            "  warnings.warn(\n"
          ]
        },
        {
          "output_type": "display_data",
          "data": {
            "text/plain": [
              "config.json:   0%|          | 0.00/1.15k [00:00<?, ?B/s]"
            ],
            "application/vnd.jupyter.widget-view+json": {
              "version_major": 2,
              "version_minor": 0,
              "model_id": "d3ed3c7af3b14da98cd1ffd6c217fcf7"
            }
          },
          "metadata": {}
        },
        {
          "output_type": "display_data",
          "data": {
            "text/plain": [
              "model.safetensors:   0%|          | 0.00/1.63G [00:00<?, ?B/s]"
            ],
            "application/vnd.jupyter.widget-view+json": {
              "version_major": 2,
              "version_minor": 0,
              "model_id": "ea81d7f20a5545b8a33b306df81284bc"
            }
          },
          "metadata": {}
        },
        {
          "output_type": "display_data",
          "data": {
            "text/plain": [
              "tokenizer_config.json:   0%|          | 0.00/26.0 [00:00<?, ?B/s]"
            ],
            "application/vnd.jupyter.widget-view+json": {
              "version_major": 2,
              "version_minor": 0,
              "model_id": "c1112cc6afa943f18939cbdec0034630"
            }
          },
          "metadata": {}
        },
        {
          "output_type": "display_data",
          "data": {
            "text/plain": [
              "vocab.json:   0%|          | 0.00/899k [00:00<?, ?B/s]"
            ],
            "application/vnd.jupyter.widget-view+json": {
              "version_major": 2,
              "version_minor": 0,
              "model_id": "24011d9090004d6991785ceb00dd764e"
            }
          },
          "metadata": {}
        },
        {
          "output_type": "display_data",
          "data": {
            "text/plain": [
              "merges.txt:   0%|          | 0.00/456k [00:00<?, ?B/s]"
            ],
            "application/vnd.jupyter.widget-view+json": {
              "version_major": 2,
              "version_minor": 0,
              "model_id": "cd5f28eeec8549feb652edb30ff83dea"
            }
          },
          "metadata": {}
        },
        {
          "output_type": "display_data",
          "data": {
            "text/plain": [
              "tokenizer.json:   0%|          | 0.00/1.36M [00:00<?, ?B/s]"
            ],
            "application/vnd.jupyter.widget-view+json": {
              "version_major": 2,
              "version_minor": 0,
              "model_id": "5db577a40253473f98736881d3e694d0"
            }
          },
          "metadata": {}
        },
        {
          "output_type": "stream",
          "name": "stdout",
          "text": [
            "Scholz Sentiment Scores: [0.2740136981010437, -0.3861144483089447, -0.4036780297756195, -0.5418952107429504, -0.2587175965309143, -0.3296401798725128, -0.3569844365119934, -0.40306413173675537, 0.28516221046447754, -0.39180782437324524]\n",
            "\n",
            "Stubb Sentiment Scores: [-0.30211132764816284, 0.23252254724502563, 0.699707567691803, -0.3788067400455475, -0.2782352566719055, -0.3524230420589447, -0.3704802691936493, -0.41478201746940613, -0.2561601996421814, -0.35991978645324707]\n",
            "\n",
            "Putin Sentiment Scores: [-0.2923130989074707, -0.2963285446166992, -0.32885393500328064, -0.32140490412712097, -0.2826579809188843, -0.27876386046409607, -0.2587175965309143, -0.3207322657108307, -0.3081895709037781, -0.2422441840171814]\n"
          ]
        },
        {
          "output_type": "display_data",
          "data": {
            "text/plain": [
              "<Figure size 1000x600 with 1 Axes>"
            ],
            "image/png": "[encoded data removed]"
          },
          "metadata": {}
        },
        {
          "output_type": "stream",
          "name": "stdout",
          "text": [
            "\n",
            "\n",
            "Article 1: Should Olaf Scholz Step Aside in the New Race for German Chancellor? Score: 0.2740136981010437\n",
            "Article 2: Germany Pledges Fast Military Aid to Ukraine in Effort to Reassure Score: -0.3861144483089447\n",
            "Article 3: Inside ‘Rail Force One’: The Trains That Take World Leaders to Ukraine Score: -0.4036780297756195\n",
            "Article 4: Why Germany’s Economy, Once a Leader in Europe, Is Now in Crisis Score: -0.5418952107429504\n",
            "Article 5: Putin Talks With German Chancellor, Breaking Ice With the West Score: -0.2587175965309143\n",
            "Article 6: German Lawmakers Agree on Date for Snap Election in New Year Score: -0.3296401798725128\n",
            "Article 7: Missing in Europe: A Strong Leader for a New Trump Era Score: -0.3569844365119934\n",
            "Article 8: What the Collapse of Germany’s Ruling Coalition Means Score: -0.40306413173675537\n",
            "Article 9: Trump Will Test European Solidarity on NATO, Ukraine and Trade Score: 0.28516221046447754\n",
            "Article 10: Germany’s Coalition Collapses, Leaving the Government Teetering Score: -0.39180782437324524\n",
            "\n",
            "\n"
          ]
        },
        {
          "output_type": "display_data",
          "data": {
            "text/plain": [
              "<Figure size 1000x600 with 1 Axes>"
            ],
            "image/png": "[encoded data removed]"
          },
          "metadata": {}
        },
        {
          "output_type": "stream",
          "name": "stdout",
          "text": [
            "\n",
            "\n",
            "Article 1: As U.N. Meets, Pressure Mounts on Biden to Loosen Up on Arms for Ukraine Score: -0.30211132764816284\n",
            "Article 2: Duke Fakir, Last Surviving Member of the Four Tops, Dies at 88 Score: 0.23252254724502563\n",
            "Article 3: What to Know About Nvidia’s High-Stakes Earnings Report Score: 0.699707567691803\n",
            "Article 4: Before Paris, London Showed How the Olympics Could Be Sustainable Score: -0.3788067400455475\n",
            "Article 5: In Her Crisp Defense of Biden, Harris Builds a Case for Herself Score: -0.2782352566719055\n",
            "Article 6: 4 Children and 2 Adults Are Killed in Ottawa Home Score: -0.3524230420589447\n",
            "Article 7: Finland Passes Law to Turn Away Asylum Seekers at Border Score: -0.3704802691936493\n",
            "Article 8: OpenAI Says Russia and China Used Its A.I. in Covert Campaigns Score: -0.41478201746940613\n",
            "Article 9: The 84-Year-Old Visionary With One Answer for Two Real Estate Crises Score: -0.2561601996421814\n",
            "Article 10: How Howard Lutnick Could Shake Up Global Trade Score: -0.35991978645324707\n",
            "\n",
            "\n"
          ]
        },
        {
          "output_type": "display_data",
          "data": {
            "text/plain": [
              "<Figure size 1000x600 with 1 Axes>"
            ],
            "image/png": "[encoded data removed]"
          },
          "metadata": {}
        },
        {
          "output_type": "stream",
          "name": "stdout",
          "text": [
            "\n",
            "\n",
            "Article 1: Investigation Into Forced Adoptions From Ukraine Points Finger at Putin Score: -0.2923130989074707\n",
            "Article 2: Merkel Memoir Recalls What It Was Like Dealing With Trump and Putin Score: -0.2963285446166992\n",
            "Article 3: With Memes and in State Media, Many Russians Cheer on Putin’s Threats Score: -0.32885393500328064\n",
            "Article 4: As Ukraine Fires U.S. Missiles, Putin Sends a Chilling Message Score: -0.32140490412712097\n",
            "Article 5: Putin Sees America Hurtling to Disaster, With Trump at the Wheel Score: -0.2826579809188843\n",
            "Article 6: Bitter Infighting, and Trump’s Victory, Cloud Prospects for Anti-Putin Opposition Score: -0.27876386046409607\n",
            "Article 7: Putin Talks With German Chancellor, Breaking Ice With the West Score: -0.2587175965309143\n",
            "Article 8: Putin Lowers Russia’s Threshold for Using Nuclear Arms Score: -0.3207322657108307\n",
            "Article 9: Bogged Down in Ukraine, Russia Pays a Price in Syria Score: -0.3081895709037781\n",
            "Article 10: We Cannot Forget the World’s Political Prisoners Score: -0.2422441840171814\n",
            "\n",
            "\n"
          ]
        }
      ]
    },
    {
      "cell_type": "markdown",
      "source": [
        "# **Part 3: Boxplot Politican Sentiment Score**\n",
        "Now here we create a boxplot for every politican and their sentiment score. This is useful to see the averages, the minimunm and maximum and the quartiles and possible outliners. Additionally for better overview we also printed out every datapoint of the sentiment score. But it is important to mention that the Boxplot can change after a while and also the averages can change. This is because the NYT API always gives us the latest 10 articles and when a new article is"
      ],
      "metadata": {
        "id": "xTgn7-C6dHDY"
      }
    },
    {
      "cell_type": "code",
      "source": [
        "import seaborn as sns\n",
        "\n",
        "#Creating the boxplot over the sentiment scores for every politician\n",
        "boxplot = pd.DataFrame({\n",
        "    \"Sentiment Score\" : scores_scholz + scores_stubb + scores_putin,\n",
        "    \"Politician\" : [\"Scholz\"] * len(scores_scholz) + [\"Stubb\"] * len(scores_stubb) + [\"Putin\"] * len(scores_putin)\n",
        "})\n",
        "\n",
        "plt.figure(figsize=(10, 6))\n",
        "\n",
        "\n",
        "#Adjuting the boxplot\n",
        "sns.boxplot(\n",
        "    x=\"Politician\",\n",
        "    y=\"Sentiment Score\",\n",
        "    data=boxplot,\n",
        "    palette=[\"lightgreen\", \"skyblue\", \"magenta\"],\n",
        "    saturation=0.8,\n",
        "    fill=True,\n",
        "    linecolor='auto',\n",
        "    width=0.5,\n",
        "    showfliers=False,\n",
        "    medianprops={\"color\": \"darkred\", \"linewidth\": 2})\n",
        "\n",
        "#Adjuting the strip plot\n",
        "sns.stripplot(\n",
        "    x=\"Politician\",\n",
        "    y=\"Sentiment Score\",\n",
        "    data=boxplot,\n",
        "    color=\"black\",\n",
        "    alpha=0.6,\n",
        "    jitter=True,\n",
        "    size=5\n",
        ")\n",
        "\n",
        "#Creating the Plot\n",
        "plt.title(\"Boxplot of Sentiment Scores for Each Politician\", fontsize=18, fontweight=\"bold\")\n",
        "plt.xlabel(\"Politician\", fontsize=14)\n",
        "plt.ylabel(\"Sentiment Score\", fontsize=14)\n",
        "plt.xticks(fontsize=12)\n",
        "plt.yticks(fontsize=12)\n",
        "plt.axhline(0, color=\"gray\", linestyle=\"--\", linewidth=1)\n",
        "plt.ylim(-0.75,0.75)\n",
        "plt.show()\n",
        "\n",
        "#Calculating the max, min and avg scores for each\n",
        "avg_scores_scholz = np.mean(scores_scholz)\n",
        "avg_scores_stubb = np.mean(scores_stubb)\n",
        "avg_scores_putin = np.mean(scores_putin)\n",
        "\n",
        "max_score_scholz = max(scores_scholz)\n",
        "max_score_stubb = max(scores_stubb)\n",
        "max_score_putin = max(scores_putin)\n",
        "\n",
        "min_score_scholz = min(scores_scholz)\n",
        "min_score_stubb = min(scores_stubb)\n",
        "min_score_putin = min(scores_putin)\n",
        "\n",
        "#Printing out the Scores with the highest, lowest and the average\n",
        "print(f\"\\nAverage Sentiment Score for Scholz: {avg_scores_scholz}\")\n",
        "print(f\"\\nAverage Sentiment Score for Stubb: {avg_scores_stubb}\")\n",
        "print(f\"\\nAverage Sentiment Score for Putin: {avg_scores_putin}\\n\\n\")\n",
        "\n",
        "print(f\"\\nHighest Sentiment Score for Scholz: {max_score_scholz}\")\n",
        "print(f\"\\nHighest Sentiment Score for Stubb: {max_score_stubb}\")\n",
        "print(f\"\\nHighest Sentiment Score for Putin: {max_score_putin}\\n\\n\")\n",
        "\n",
        "print(f\"\\nLowest Sentiment Score for Scholz: {min_score_scholz}\")\n",
        "print(f\"\\nLowest Sentiment Score for Stubb: {min_score_stubb}\")\n",
        "print(f\"\\nLowest Sentiment Score for Putin: {min_score_putin}\\n\\n\")"
      ],
      "metadata": {
        "colab": {
          "base_uri": "https://localhost:8080/",
          "height": 1000
        },
        "id": "_VXyCHrbdL1m",
        "outputId": "41dd73bc-355f-41e3-89b7-61716362ab6e"
      },
      "execution_count": null,
      "outputs": [
        {
          "output_type": "stream",
          "name": "stderr",
          "text": [
            "<ipython-input-14-adb0d84d8b0d>:13: FutureWarning: \n",
            "\n",
            "Passing `palette` without assigning `hue` is deprecated and will be removed in v0.14.0. Assign the `x` variable to `hue` and set `legend=False` for the same effect.\n",
            "\n",
            "  sns.boxplot(\n"
          ]
        },
        {
          "output_type": "display_data",
          "data": {
            "text/plain": [
              "<Figure size 1000x600 with 1 Axes>"
            ],
            "image/png": "[encoded data removed]"
          },
          "metadata": {}
        },
        {
          "output_type": "stream",
          "name": "stdout",
          "text": [
            "\n",
            "Average Sentiment Score for Scholz: -0.25127259492874143\n",
            "\n",
            "Average Sentiment Score for Stubb: -0.1780688524246216\n",
            "\n",
            "Average Sentiment Score for Putin: -0.2930205941200256\n",
            "\n",
            "\n",
            "\n",
            "Highest Sentiment Score for Scholz: 0.28516221046447754\n",
            "\n",
            "Highest Sentiment Score for Stubb: 0.699707567691803\n",
            "\n",
            "Highest Sentiment Score for Putin: -0.2422441840171814\n",
            "\n",
            "\n",
            "\n",
            "Lowest Sentiment Score for Scholz: -0.5418952107429504\n",
            "\n",
            "Lowest Sentiment Score for Stubb: -0.41478201746940613\n",
            "\n",
            "Lowest Sentiment Score for Putin: -0.32885393500328064\n",
            "\n",
            "\n"
          ]
        }
      ]
    }
  ]
}